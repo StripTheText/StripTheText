{
 "cells": [
  {
   "cell_type": "code",
   "execution_count": 2,
   "metadata": {},
   "outputs": [],
   "source": [
    "from pathlib import Path\n",
    "import os\n",
    "from pdf2image import convert_from_path\n",
    "\n",
    "import cv2\n",
    "import pytesseract as pt\n",
    "from PIL import Image\n",
    "import pandas as pd"
   ]
  },
  {
   "cell_type": "code",
   "execution_count": 3,
   "metadata": {},
   "outputs": [],
   "source": [
    "input_dir = Path(\"PDF_OCR_Textextraction\\PDF_input\")"
   ]
  },
  {
   "cell_type": "code",
   "execution_count": null,
   "metadata": {},
   "outputs": [],
   "source": [
    "def pdf_2_images(input_dir=input_dir):\n",
    "    pdf_counter = 1\n",
    "    ### Iterate through pdf input directory and process only PDF files via .pdf extension\n",
    "    for file in os.listdir(input_dir):\n",
    "        if file.endswith(\".pdf\"):\n",
    "            print(f\"Processing PDF file {pdf_counter}: {file}\")\n",
    "            pdf_counter += 1\n",
    "\n",
    "            ### Create entire filepath for each PDF file\n",
    "            pdf_file_path = input_dir/file\n",
    "            fn = file.split(\".\")[0]\n",
    "\n",
    "            ### Create a sub directory inside the \"input\" directory for each PDF\n",
    "            #############################################\n",
    "            sub_dir_path = input_dir/fn\n",
    "            ### Check if sub_dir already exists, if not --> create sub_dir for each PDF\n",
    "            if not os.path.exists(sub_dir_path):\n",
    "                os.mkdir(os.path.join(sub_dir_path))\n",
    "                print(f\"New SUB_DIR created: {sub_dir_path}\")\n",
    "            else:\n",
    "                print(f\"SUB_DIR already exists: {sub_dir_path}\")\n",
    "\n",
    "            ### Generate image file in sub_dir for each page in PDF file\n",
    "            #############################################\n",
    "            pages = convert_from_path(pdf_file_path, dpi=500)\n",
    "            for page_index, page in enumerate(pages):\n",
    "                ### Name schema of the image filenames\n",
    "                img_fn = f\"{fn}_Page_{str(page_index)}\"+\".png\"\n",
    "                ### Check if image file already exists\n",
    "                if not os.path.exists(sub_dir_path/img_fn):\n",
    "                    print(f\"Saving {fn} PDF page {page_index}\")\n",
    "                    page.save(sub_dir_path/img_fn, \"PNG\")\n",
    "                    continue\n",
    "                else:\n",
    "                    print(\"File already exists --> SKIP\")\n",
    "                    continue\n",
    "    print(\"PROCESSING FINISHED!\")\n",
    "\n",
    "pdf_2_images(input_dir=input_dir)"
   ]
  },
  {
   "cell_type": "code",
   "execution_count": null,
   "metadata": {},
   "outputs": [],
   "source": []
  },
  {
   "cell_type": "code",
   "execution_count": null,
   "metadata": {},
   "outputs": [],
   "source": []
  },
  {
   "cell_type": "code",
   "execution_count": null,
   "metadata": {},
   "outputs": [],
   "source": []
  },
  {
   "cell_type": "code",
   "execution_count": null,
   "metadata": {},
   "outputs": [],
   "source": []
  },
  {
   "cell_type": "code",
   "execution_count": null,
   "metadata": {},
   "outputs": [],
   "source": []
  },
  {
   "cell_type": "code",
   "execution_count": null,
   "metadata": {},
   "outputs": [],
   "source": []
  }
 ],
 "metadata": {
  "kernelspec": {
   "display_name": "venv",
   "language": "python",
   "name": "python3"
  },
  "language_info": {
   "codemirror_mode": {
    "name": "ipython",
    "version": 3
   },
   "file_extension": ".py",
   "mimetype": "text/x-python",
   "name": "python",
   "nbconvert_exporter": "python",
   "pygments_lexer": "ipython3",
   "version": "3.9.13"
  },
  "orig_nbformat": 4
 },
 "nbformat": 4,
 "nbformat_minor": 2
}
