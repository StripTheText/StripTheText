{
 "cells": [
  {
   "cell_type": "code",
   "execution_count": 1,
   "metadata": {},
   "outputs": [],
   "source": [
    "import pandas as pd\n",
    "import glob"
   ]
  },
  {
   "attachments": {},
   "cell_type": "markdown",
   "metadata": {},
   "source": [
    "## 1 Blogbeiträge"
   ]
  },
  {
   "cell_type": "code",
   "execution_count": 13,
   "metadata": {},
   "outputs": [
    {
     "data": {
      "text/plain": [
       "192368"
      ]
     },
     "execution_count": 13,
     "metadata": {},
     "output_type": "execute_result"
    }
   ],
   "source": [
    "df = pd.read_csv(\"medium_articles.csv\")\n",
    "len(df)"
   ]
  },
  {
   "cell_type": "code",
   "execution_count": 3,
   "metadata": {},
   "outputs": [
    {
     "data": {
      "text/html": [
       "<div>\n",
       "<style scoped>\n",
       "    .dataframe tbody tr th:only-of-type {\n",
       "        vertical-align: middle;\n",
       "    }\n",
       "\n",
       "    .dataframe tbody tr th {\n",
       "        vertical-align: top;\n",
       "    }\n",
       "\n",
       "    .dataframe thead th {\n",
       "        text-align: right;\n",
       "    }\n",
       "</style>\n",
       "<table border=\"1\" class=\"dataframe\">\n",
       "  <thead>\n",
       "    <tr style=\"text-align: right;\">\n",
       "      <th></th>\n",
       "      <th>title</th>\n",
       "      <th>text</th>\n",
       "      <th>url</th>\n",
       "      <th>authors</th>\n",
       "      <th>timestamp</th>\n",
       "      <th>tags</th>\n",
       "    </tr>\n",
       "  </thead>\n",
       "  <tbody>\n",
       "    <tr>\n",
       "      <th>0</th>\n",
       "      <td>Mental Note Vol. 24</td>\n",
       "      <td>Photo by Josh Riemer on Unsplash\\n\\nMerry Chri...</td>\n",
       "      <td>https://medium.com/invisible-illness/mental-no...</td>\n",
       "      <td>['Ryan Fan']</td>\n",
       "      <td>2020-12-26 03:38:10.479000+00:00</td>\n",
       "      <td>['Mental Health', 'Health', 'Psychology', 'Sci...</td>\n",
       "    </tr>\n",
       "    <tr>\n",
       "      <th>1</th>\n",
       "      <td>Your Brain On Coronavirus</td>\n",
       "      <td>Your Brain On Coronavirus\\n\\nA guide to the cu...</td>\n",
       "      <td>https://medium.com/age-of-awareness/how-the-pa...</td>\n",
       "      <td>['Simon Spichak']</td>\n",
       "      <td>2020-09-23 22:10:17.126000+00:00</td>\n",
       "      <td>['Mental Health', 'Coronavirus', 'Science', 'P...</td>\n",
       "    </tr>\n",
       "    <tr>\n",
       "      <th>2</th>\n",
       "      <td>Mind Your Nose</td>\n",
       "      <td>Mind Your Nose\\n\\nHow smell training can chang...</td>\n",
       "      <td>https://medium.com/neodotlife/mind-your-nose-f...</td>\n",
       "      <td>[]</td>\n",
       "      <td>2020-10-10 20:17:37.132000+00:00</td>\n",
       "      <td>['Biotechnology', 'Neuroscience', 'Brain', 'We...</td>\n",
       "    </tr>\n",
       "    <tr>\n",
       "      <th>3</th>\n",
       "      <td>The 4 Purposes of Dreams</td>\n",
       "      <td>Passionate about the synergy between science a...</td>\n",
       "      <td>https://medium.com/science-for-real/the-4-purp...</td>\n",
       "      <td>['Eshan Samaranayake']</td>\n",
       "      <td>2020-12-21 16:05:19.524000+00:00</td>\n",
       "      <td>['Health', 'Neuroscience', 'Mental Health', 'P...</td>\n",
       "    </tr>\n",
       "    <tr>\n",
       "      <th>4</th>\n",
       "      <td>Surviving a Rod Through the Head</td>\n",
       "      <td>You’ve heard of him, haven’t you? Phineas Gage...</td>\n",
       "      <td>https://medium.com/live-your-life-on-purpose/s...</td>\n",
       "      <td>['Rishav Sinha']</td>\n",
       "      <td>2020-02-26 00:01:01.576000+00:00</td>\n",
       "      <td>['Brain', 'Health', 'Development', 'Psychology...</td>\n",
       "    </tr>\n",
       "  </tbody>\n",
       "</table>\n",
       "</div>"
      ],
      "text/plain": [
       "                              title  \\\n",
       "0               Mental Note Vol. 24   \n",
       "1         Your Brain On Coronavirus   \n",
       "2                    Mind Your Nose   \n",
       "3          The 4 Purposes of Dreams   \n",
       "4  Surviving a Rod Through the Head   \n",
       "\n",
       "                                                text  \\\n",
       "0  Photo by Josh Riemer on Unsplash\\n\\nMerry Chri...   \n",
       "1  Your Brain On Coronavirus\\n\\nA guide to the cu...   \n",
       "2  Mind Your Nose\\n\\nHow smell training can chang...   \n",
       "3  Passionate about the synergy between science a...   \n",
       "4  You’ve heard of him, haven’t you? Phineas Gage...   \n",
       "\n",
       "                                                 url                 authors  \\\n",
       "0  https://medium.com/invisible-illness/mental-no...            ['Ryan Fan']   \n",
       "1  https://medium.com/age-of-awareness/how-the-pa...       ['Simon Spichak']   \n",
       "2  https://medium.com/neodotlife/mind-your-nose-f...                      []   \n",
       "3  https://medium.com/science-for-real/the-4-purp...  ['Eshan Samaranayake']   \n",
       "4  https://medium.com/live-your-life-on-purpose/s...        ['Rishav Sinha']   \n",
       "\n",
       "                          timestamp  \\\n",
       "0  2020-12-26 03:38:10.479000+00:00   \n",
       "1  2020-09-23 22:10:17.126000+00:00   \n",
       "2  2020-10-10 20:17:37.132000+00:00   \n",
       "3  2020-12-21 16:05:19.524000+00:00   \n",
       "4  2020-02-26 00:01:01.576000+00:00   \n",
       "\n",
       "                                                tags  \n",
       "0  ['Mental Health', 'Health', 'Psychology', 'Sci...  \n",
       "1  ['Mental Health', 'Coronavirus', 'Science', 'P...  \n",
       "2  ['Biotechnology', 'Neuroscience', 'Brain', 'We...  \n",
       "3  ['Health', 'Neuroscience', 'Mental Health', 'P...  \n",
       "4  ['Brain', 'Health', 'Development', 'Psychology...  "
      ]
     },
     "execution_count": 3,
     "metadata": {},
     "output_type": "execute_result"
    }
   ],
   "source": [
    "df.head(5)"
   ]
  },
  {
   "cell_type": "code",
   "execution_count": 4,
   "metadata": {},
   "outputs": [
    {
     "data": {
      "text/plain": [
       "0    Photo by Josh Riemer on Unsplash\\n\\nMerry Chri...\n",
       "1    Your Brain On Coronavirus\\n\\nA guide to the cu...\n",
       "2    Mind Your Nose\\n\\nHow smell training can chang...\n",
       "3    Passionate about the synergy between science a...\n",
       "4    You’ve heard of him, haven’t you? Phineas Gage...\n",
       "Name: text, dtype: object"
      ]
     },
     "execution_count": 4,
     "metadata": {},
     "output_type": "execute_result"
    }
   ],
   "source": [
    "df.text.head(5)"
   ]
  },
  {
   "attachments": {},
   "cell_type": "markdown",
   "metadata": {},
   "source": [
    "## 2 Nachrichtenartikel"
   ]
  },
  {
   "cell_type": "code",
   "execution_count": 12,
   "metadata": {},
   "outputs": [
    {
     "data": {
      "text/plain": [
       "120000"
      ]
     },
     "execution_count": 12,
     "metadata": {},
     "output_type": "execute_result"
    }
   ],
   "source": [
    "df = pd.read_csv(\"train.csv\")\n",
    "len(df)"
   ]
  },
  {
   "cell_type": "code",
   "execution_count": 6,
   "metadata": {},
   "outputs": [
    {
     "data": {
      "text/html": [
       "<div>\n",
       "<style scoped>\n",
       "    .dataframe tbody tr th:only-of-type {\n",
       "        vertical-align: middle;\n",
       "    }\n",
       "\n",
       "    .dataframe tbody tr th {\n",
       "        vertical-align: top;\n",
       "    }\n",
       "\n",
       "    .dataframe thead th {\n",
       "        text-align: right;\n",
       "    }\n",
       "</style>\n",
       "<table border=\"1\" class=\"dataframe\">\n",
       "  <thead>\n",
       "    <tr style=\"text-align: right;\">\n",
       "      <th></th>\n",
       "      <th>Class Index</th>\n",
       "      <th>Title</th>\n",
       "      <th>Description</th>\n",
       "    </tr>\n",
       "  </thead>\n",
       "  <tbody>\n",
       "    <tr>\n",
       "      <th>0</th>\n",
       "      <td>3</td>\n",
       "      <td>Wall St. Bears Claw Back Into the Black (Reuters)</td>\n",
       "      <td>Reuters - Short-sellers, Wall Street's dwindli...</td>\n",
       "    </tr>\n",
       "    <tr>\n",
       "      <th>1</th>\n",
       "      <td>3</td>\n",
       "      <td>Carlyle Looks Toward Commercial Aerospace (Reu...</td>\n",
       "      <td>Reuters - Private investment firm Carlyle Grou...</td>\n",
       "    </tr>\n",
       "    <tr>\n",
       "      <th>2</th>\n",
       "      <td>3</td>\n",
       "      <td>Oil and Economy Cloud Stocks' Outlook (Reuters)</td>\n",
       "      <td>Reuters - Soaring crude prices plus worries\\ab...</td>\n",
       "    </tr>\n",
       "    <tr>\n",
       "      <th>3</th>\n",
       "      <td>3</td>\n",
       "      <td>Iraq Halts Oil Exports from Main Southern Pipe...</td>\n",
       "      <td>Reuters - Authorities have halted oil export\\f...</td>\n",
       "    </tr>\n",
       "    <tr>\n",
       "      <th>4</th>\n",
       "      <td>3</td>\n",
       "      <td>Oil prices soar to all-time record, posing new...</td>\n",
       "      <td>AFP - Tearaway world oil prices, toppling reco...</td>\n",
       "    </tr>\n",
       "  </tbody>\n",
       "</table>\n",
       "</div>"
      ],
      "text/plain": [
       "   Class Index                                              Title  \\\n",
       "0            3  Wall St. Bears Claw Back Into the Black (Reuters)   \n",
       "1            3  Carlyle Looks Toward Commercial Aerospace (Reu...   \n",
       "2            3    Oil and Economy Cloud Stocks' Outlook (Reuters)   \n",
       "3            3  Iraq Halts Oil Exports from Main Southern Pipe...   \n",
       "4            3  Oil prices soar to all-time record, posing new...   \n",
       "\n",
       "                                         Description  \n",
       "0  Reuters - Short-sellers, Wall Street's dwindli...  \n",
       "1  Reuters - Private investment firm Carlyle Grou...  \n",
       "2  Reuters - Soaring crude prices plus worries\\ab...  \n",
       "3  Reuters - Authorities have halted oil export\\f...  \n",
       "4  AFP - Tearaway world oil prices, toppling reco...  "
      ]
     },
     "execution_count": 6,
     "metadata": {},
     "output_type": "execute_result"
    }
   ],
   "source": [
    "df.head(5)"
   ]
  },
  {
   "attachments": {},
   "cell_type": "markdown",
   "metadata": {},
   "source": [
    "## 3 Produktbewertungen"
   ]
  },
  {
   "cell_type": "code",
   "execution_count": 11,
   "metadata": {},
   "outputs": [
    {
     "data": {
      "text/plain": [
       "17340"
      ]
     },
     "execution_count": 11,
     "metadata": {},
     "output_type": "execute_result"
    }
   ],
   "source": [
    "df = pd.read_csv(\"cleaned_reviews.csv\")\n",
    "len(df)"
   ]
  },
  {
   "cell_type": "code",
   "execution_count": 8,
   "metadata": {},
   "outputs": [
    {
     "data": {
      "text/html": [
       "<div>\n",
       "<style scoped>\n",
       "    .dataframe tbody tr th:only-of-type {\n",
       "        vertical-align: middle;\n",
       "    }\n",
       "\n",
       "    .dataframe tbody tr th {\n",
       "        vertical-align: top;\n",
       "    }\n",
       "\n",
       "    .dataframe thead th {\n",
       "        text-align: right;\n",
       "    }\n",
       "</style>\n",
       "<table border=\"1\" class=\"dataframe\">\n",
       "  <thead>\n",
       "    <tr style=\"text-align: right;\">\n",
       "      <th></th>\n",
       "      <th>sentiments</th>\n",
       "      <th>cleaned_review</th>\n",
       "      <th>cleaned_review_length</th>\n",
       "      <th>review_score</th>\n",
       "    </tr>\n",
       "  </thead>\n",
       "  <tbody>\n",
       "    <tr>\n",
       "      <th>0</th>\n",
       "      <td>positive</td>\n",
       "      <td>i wish would have gotten one earlier love it a...</td>\n",
       "      <td>19</td>\n",
       "      <td>5.0</td>\n",
       "    </tr>\n",
       "    <tr>\n",
       "      <th>1</th>\n",
       "      <td>neutral</td>\n",
       "      <td>i ve learned this lesson again open the packag...</td>\n",
       "      <td>88</td>\n",
       "      <td>1.0</td>\n",
       "    </tr>\n",
       "    <tr>\n",
       "      <th>2</th>\n",
       "      <td>neutral</td>\n",
       "      <td>it is so slow and lags find better option</td>\n",
       "      <td>9</td>\n",
       "      <td>2.0</td>\n",
       "    </tr>\n",
       "    <tr>\n",
       "      <th>3</th>\n",
       "      <td>neutral</td>\n",
       "      <td>roller ball stopped working within months of m...</td>\n",
       "      <td>12</td>\n",
       "      <td>1.0</td>\n",
       "    </tr>\n",
       "    <tr>\n",
       "      <th>4</th>\n",
       "      <td>neutral</td>\n",
       "      <td>i like the color and size but it few days out ...</td>\n",
       "      <td>21</td>\n",
       "      <td>1.0</td>\n",
       "    </tr>\n",
       "  </tbody>\n",
       "</table>\n",
       "</div>"
      ],
      "text/plain": [
       "  sentiments                                     cleaned_review  \\\n",
       "0   positive  i wish would have gotten one earlier love it a...   \n",
       "1    neutral  i ve learned this lesson again open the packag...   \n",
       "2    neutral          it is so slow and lags find better option   \n",
       "3    neutral  roller ball stopped working within months of m...   \n",
       "4    neutral  i like the color and size but it few days out ...   \n",
       "\n",
       "   cleaned_review_length  review_score  \n",
       "0                     19           5.0  \n",
       "1                     88           1.0  \n",
       "2                      9           2.0  \n",
       "3                     12           1.0  \n",
       "4                     21           1.0  "
      ]
     },
     "execution_count": 8,
     "metadata": {},
     "output_type": "execute_result"
    }
   ],
   "source": [
    "df.head(5)"
   ]
  },
  {
   "cell_type": "code",
   "execution_count": 9,
   "metadata": {},
   "outputs": [
    {
     "data": {
      "text/plain": [
       "0    i wish would have gotten one earlier love it a...\n",
       "1    i ve learned this lesson again open the packag...\n",
       "2            it is so slow and lags find better option\n",
       "3    roller ball stopped working within months of m...\n",
       "4    i like the color and size but it few days out ...\n",
       "Name: cleaned_review, dtype: object"
      ]
     },
     "execution_count": 9,
     "metadata": {},
     "output_type": "execute_result"
    }
   ],
   "source": [
    "df.cleaned_review.head(5)"
   ]
  },
  {
   "attachments": {},
   "cell_type": "markdown",
   "metadata": {},
   "source": [
    "## 4 Bücher"
   ]
  },
  {
   "cell_type": "code",
   "execution_count": 19,
   "metadata": {},
   "outputs": [
    {
     "data": {
      "text/plain": [
       "322"
      ]
     },
     "execution_count": 19,
     "metadata": {},
     "output_type": "execute_result"
    }
   ],
   "source": [
    "book_pages = glob.glob(\"book_pages/*.txt\")\n",
    "len(book_pages)"
   ]
  },
  {
   "cell_type": "code",
   "execution_count": 21,
   "metadata": {},
   "outputs": [
    {
     "name": "stdout",
     "output_type": "stream",
     "text": [
      "322\n"
     ]
    }
   ],
   "source": [
    "pages_list = []\n",
    "\n",
    "for page in book_pages:\n",
    "    with open(page, \"r\", encoding=\"utf8\") as f:\n",
    "        pages_list += [f.read()]\n",
    "\n",
    "print(len(pages_list))"
   ]
  },
  {
   "cell_type": "code",
   "execution_count": 27,
   "metadata": {},
   "outputs": [],
   "source": [
    "df = pd.DataFrame(pages_list, columns=[\"text\"])\n",
    "df[\"class\"] = \"book\""
   ]
  },
  {
   "cell_type": "code",
   "execution_count": 28,
   "metadata": {},
   "outputs": [
    {
     "data": {
      "text/html": [
       "<div>\n",
       "<style scoped>\n",
       "    .dataframe tbody tr th:only-of-type {\n",
       "        vertical-align: middle;\n",
       "    }\n",
       "\n",
       "    .dataframe tbody tr th {\n",
       "        vertical-align: top;\n",
       "    }\n",
       "\n",
       "    .dataframe thead th {\n",
       "        text-align: right;\n",
       "    }\n",
       "</style>\n",
       "<table border=\"1\" class=\"dataframe\">\n",
       "  <thead>\n",
       "    <tr style=\"text-align: right;\">\n",
       "      <th></th>\n",
       "      <th>text</th>\n",
       "      <th>class</th>\n",
       "    </tr>\n",
       "  </thead>\n",
       "  <tbody>\n",
       "    <tr>\n",
       "      <th>0</th>\n",
       "      <td>When this book was written, the writer was und...</td>\n",
       "      <td>book</td>\n",
       "    </tr>\n",
       "    <tr>\n",
       "      <th>1</th>\n",
       "      <td>WHY AND WHEREFORE.\\n\\nIn making a study of my ...</td>\n",
       "      <td>book</td>\n",
       "    </tr>\n",
       "    <tr>\n",
       "      <th>2</th>\n",
       "      <td>SCENE OF THE MASSACRES IN ASIA MINOR.\\n\\nThe t...</td>\n",
       "      <td>book</td>\n",
       "    </tr>\n",
       "    <tr>\n",
       "      <th>3</th>\n",
       "      <td>DISINTERESTED EVIDENCE.\\n\\nI have thought it a...</td>\n",
       "      <td>book</td>\n",
       "    </tr>\n",
       "    <tr>\n",
       "      <th>4</th>\n",
       "      <td>of blackened ruins, the stark walls of the chu...</td>\n",
       "      <td>book</td>\n",
       "    </tr>\n",
       "  </tbody>\n",
       "</table>\n",
       "</div>"
      ],
      "text/plain": [
       "                                                text class\n",
       "0  When this book was written, the writer was und...  book\n",
       "1  WHY AND WHEREFORE.\\n\\nIn making a study of my ...  book\n",
       "2  SCENE OF THE MASSACRES IN ASIA MINOR.\\n\\nThe t...  book\n",
       "3  DISINTERESTED EVIDENCE.\\n\\nI have thought it a...  book\n",
       "4  of blackened ruins, the stark walls of the chu...  book"
      ]
     },
     "execution_count": 28,
     "metadata": {},
     "output_type": "execute_result"
    }
   ],
   "source": [
    "df.head(5)"
   ]
  },
  {
   "cell_type": "code",
   "execution_count": 30,
   "metadata": {},
   "outputs": [],
   "source": [
    "df.to_csv(\"books.csv\", index=False)"
   ]
  },
  {
   "attachments": {},
   "cell_type": "markdown",
   "metadata": {},
   "source": [
    "## 5 Wissenschaftliche Paper"
   ]
  },
  {
   "cell_type": "code",
   "execution_count": 35,
   "metadata": {},
   "outputs": [
    {
     "data": {
      "text/plain": [
       "1009"
      ]
     },
     "execution_count": 35,
     "metadata": {},
     "output_type": "execute_result"
    }
   ],
   "source": [
    "paper_ids = glob.glob(\"top1000_complete/*\")\n",
    "paper_ids = [id.split(\"\\\\\")[-1] for id in paper_ids]\n",
    "len(paper_ids)"
   ]
  },
  {
   "cell_type": "code",
   "execution_count": 36,
   "metadata": {},
   "outputs": [
    {
     "name": "stdout",
     "output_type": "stream",
     "text": [
      "['A00-1031', 'A00-1043', 'A00-2004', 'A00-2009', 'A00-2018', 'A00-2019', 'A00-2024', 'A00-2026', 'A00-2030', 'A00-2031', 'A00-2034', 'A88-1019', 'A92-1006', 'A92-1018', 'A92-1021', 'A94-1006', 'A94-1009', 'A94-1016', 'A97-1004', 'A97-1011', 'A97-1014', 'A97-1029', 'A97-1030', 'A97-1039', 'A97-1052', 'C00-1007', 'C00-1044', 'C00-1072', 'C00-2136', 'C00-2137', 'C00-2163', 'C02-1011', 'C02-1054', 'C02-1114', 'C02-1139', 'C02-1144', 'C02-1145', 'C02-1150', 'C02-2025', 'C04-1010', 'C04-1024', 'C04-1041', 'C04-1046', 'C04-1051', 'C04-1059', 'C04-1072', 'C04-1073', 'C04-1080', 'C04-1081', 'C04-1100', 'C04-1111', 'C04-1146', 'C04-1180', 'C04-1197', 'C04-1200', 'C08-1018', 'C08-1022', 'C08-1098', 'C08-1107', 'C08-1109', 'C08-1114', 'C10-1011', 'C10-1152', 'C10-2005', 'C10-2028', 'C86-1016', 'C86-1045', 'C88-1016', 'C88-2121', 'C88-2128', 'C88-2147', 'C90-2067', 'C90-3030', 'C90-3044', 'C90-3045', 'C90-3052', 'C90-3063', 'C92-1019', 'C92-1025', 'C92-1038', 'C92-2066', 'C92-2070', 'C92-2082', 'C92-3126', 'C92-3150', 'C94-1027', 'C94-1032', 'C94-1042', 'C94-1079', 'C94-2174', 'C94-2178', 'C94-2195', 'C96-1005', 'C96-1021', 'C96-1055', 'C96-1058', 'C96-1079', 'C96-2141', 'C96-2183', 'D07-1002', 'D07-1003', 'D07-1007', 'D07-1031', 'D07-1043', 'D07-1061', 'D07-1071', 'D07-1072', 'D07-1074', 'D07-1076', 'D07-1077', 'D07-1080', 'D07-1090', 'D07-1091', 'D07-1096', 'D07-1097', 'D07-1101', 'D07-1103', 'D07-1104', 'D07-1109', 'D07-1111', 'D07-1114', 'D08-1011', 'D08-1014', 'D08-1016', 'D08-1020', 'D08-1021', 'D08-1022', 'D08-1024', 'D08-1027', 'D08-1031', 'D08-1035', 'D08-1036', 'D08-1059', 'D08-1065', 'D08-1068', 'D08-1076', 'D08-1082', 'D08-1083', 'D08-1089', 'D08-1092', 'D09-1001', 'D09-1005', 'D09-1026', 'D09-1030', 'D09-1058', 'D09-1086', 'D09-1092', 'D09-1098', 'D09-1101', 'D09-1120', 'D09-1127', 'D09-1159', 'D10-1001', 'D10-1044', 'D10-1048', 'D10-1115', 'D10-1119', 'D10-1120', 'D10-1124', 'D10-1125', 'D11-1006', 'D11-1014', 'D11-1033', 'D11-1062', 'D11-1125', 'D11-1129', 'D11-1141', 'D11-1142', 'D12-1050', 'D12-1133', 'E03-1005', 'E03-1008', 'E03-1009', 'E03-1071', 'E03-1076', 'E06-1002', 'E06-1005', 'E06-1011', 'E06-1015', 'E06-1025', 'E06-1027', 'E06-1031', 'E06-1032', 'E06-1038', 'E06-1040', 'E06-1042', 'E06-1043', 'E06-1051', 'E09-1005', 'E09-1013', 'E87-1002', 'E89-1009', 'E89-1037', 'E99-1001', 'E99-1010', 'E99-1023', 'H01-1035', 'H05-1004', 'H05-1010', 'H05-1011', 'H05-1012', 'H05-1021', 'H05-1043', 'H05-1044', 'H05-1045', 'H05-1053', 'H05-1059', 'H05-1066', 'H05-1073', 'H05-1079', 'H05-1091', 'H05-2018', 'H91-1026', 'H91-1060', 'H92-1026', 'H92-1045', 'H93-1051', 'H93-1052', 'H93-1061', 'H94-1020', 'H94-1046', 'H94-1048', 'I05-2038', 'I05-3017', 'I05-3025', 'I05-3027', 'I08-1059', 'J00-1004', 'J00-2004', 'J00-3003', 'J00-3004', 'J00-4003', 'J00-4005', 'J01-2001', 'J01-2002', 'J01-2004', 'J01-3001', 'J01-3003', 'J01-4004', 'J02-1002', 'J02-1003', 'J02-2003', 'J02-3001', 'J02-4002', 'J03-1002', 'J03-1003', 'J03-1005', 'J03-3001', 'J03-3002', 'J03-3005', 'J03-4003', 'J03-4004', 'J04-1002', 'J04-1005', 'J04-2003', 'J04-3002', 'J04-4002', 'J04-4004', 'J05-1003', 'J05-1004', 'J05-3002', 'J05-4003', 'J06-1003', 'J06-3003', 'J07-2003', 'J07-3004', 'J07-4004', 'J08-1001', 'J08-1002', 'J08-2002', 'J08-2005', 'J08-4003', 'J08-4004', 'J09-3003', 'J10-3003', 'J10-4006', 'J80-3003', 'J81-4003', 'J82-3004', 'J86-3001', 'J87-1004', 'J87-1005', 'J88-1003', 'J88-2003', 'J88-2006', 'J90-1003', 'J90-1004', 'J90-2002', 'J91-1002', 'J91-1003', 'J91-4003', 'J92-1001', 'J92-1004', 'J92-4003', 'J92-4007', 'J93-1001', 'J93-1002', 'J93-1003', 'J93-1004', 'J93-1005', 'J93-1006', 'J93-1007', 'J93-2002', 'J93-2003', 'J93-2004', 'J93-2005', 'J93-2006', 'J93-3003', 'J94-2001', 'J94-2003', 'J94-3001', 'J94-4001', 'J94-4002', 'J94-4003', 'J94-4004', 'J95-2002', 'J95-2003', 'J95-4004', 'J96-1001', 'J96-1002', 'J96-2004', 'J96-3004', 'J97-1002', 'J97-1003', 'J97-1005', 'J97-2003', 'J97-3002', 'J97-3003', 'J97-4005', 'J98-1001', 'J98-1006', 'J98-2001', 'J98-2002', 'J98-2004', 'J98-3005', 'J98-4003', 'J98-4004', 'J99-1003', 'J99-2004', 'J99-3001', 'J99-4004', 'J99-4005', 'L08-1093', 'M95-1005', 'M95-1012', 'N01-1006', 'N01-1008', 'N01-1011', 'N01-1016', 'N01-1020', 'N01-1021', 'N01-1023', 'N01-1024', 'N01-1025', 'N01-1026', 'N03-1003', 'N03-1014', 'N03-1016', 'N03-1017', 'N03-1020', 'N03-1021', 'N03-1022', 'N03-1024', 'N03-1026', 'N03-1028', 'N03-1030', 'N03-1033', 'N03-2002', 'N03-2021', 'N04-1001', 'N04-1013', 'N04-1014', 'N04-1015', 'N04-1016', 'N04-1019', 'N04-1021', 'N04-1022', 'N04-1023', 'N04-1025', 'N04-1030', 'N04-1033', 'N04-1035', 'N04-1041', 'N04-1042', 'N04-1043', 'N04-3012', 'N04-4015', 'N04-4026', 'N04-4038', 'N06-1003', 'N06-1006', 'N06-1011', 'N06-1014', 'N06-1020', 'N06-1025', 'N06-1033', 'N06-1039', 'N06-1041', 'N06-1056', 'N06-1058', 'N06-2013', 'N06-2015', 'N06-2033', 'N07-1011', 'N07-1018', 'N07-1023', 'N07-1029', 'N07-1030', 'N07-1038', 'N07-1047', 'N07-1051', 'N07-1071', 'N07-4013', 'N09-1003', 'N09-1009', 'N09-1012', 'N09-1025', 'N09-1028', 'N09-1036', 'N09-1037', 'N09-1041', 'N09-1046', 'N09-2004', 'N10-1013', 'N10-1019', 'N10-1020', 'N10-1056', 'N10-1061', 'N10-1063', 'N10-1115', 'N10-1119', 'N12-1047', 'N12-1052', 'N12-1067', 'N13-1039', 'N13-1090', 'P00-1010', 'P00-1016', 'P00-1027', 'P00-1037', 'P00-1041', 'P00-1056', 'P00-1058', 'P00-1065', 'P00-1071', 'P01-1005', 'P01-1008', 'P01-1017', 'P01-1019', 'P01-1025', 'P01-1030', 'P01-1064', 'P01-1067', 'P02-1001', 'P02-1006', 'P02-1014', 'P02-1017', 'P02-1018', 'P02-1019', 'P02-1022', 'P02-1031', 'P02-1033', 'P02-1034', 'P02-1035', 'P02-1038', 'P02-1039', 'P02-1040', 'P02-1042', 'P02-1043', 'P02-1046', 'P02-1047', 'P02-1050', 'P02-1051', 'P02-1053', 'P02-1060', 'P02-1062', 'P03-1001', 'P03-1002', 'P03-1003', 'P03-1004', 'P03-1009', 'P03-1010', 'P03-1011', 'P03-1012', 'P03-1013', 'P03-1019', 'P03-1021', 'P03-1022', 'P03-1023', 'P03-1029', 'P03-1035', 'P03-1044', 'P03-1051', 'P03-1054', 'P03-1056', 'P03-1058', 'P03-1069', 'P03-1071', 'P03-2026', 'P03-2041', 'P04-1005', 'P04-1013', 'P04-1014', 'P04-1015', 'P04-1018', 'P04-1021', 'P04-1035', 'P04-1036', 'P04-1041', 'P04-1043', 'P04-1053', 'P04-1054', 'P04-1056', 'P04-1061', 'P04-1066', 'P04-1075', 'P04-1077', 'P04-1083', 'P04-1085', 'P04-3022', 'P05-1001', 'P05-1010', 'P05-1011', 'P05-1012', 'P05-1013', 'P05-1015', 'P05-1017', 'P05-1018', 'P05-1020', 'P05-1022', 'P05-1033', 'P05-1034', 'P05-1036', 'P05-1044', 'P05-1045', 'P05-1047', 'P05-1052', 'P05-1053', 'P05-1057', 'P05-1059', 'P05-1065', 'P05-1066', 'P05-1067', 'P05-1071', 'P05-1072', 'P05-1073', 'P05-1074', 'P05-1077', 'P05-2008', 'P05-3026', 'P06-1004', 'P06-1005', 'P06-1009', 'P06-1010', 'P06-1011', 'P06-1014', 'P06-1015', 'P06-1032', 'P06-1038', 'P06-1043', 'P06-1055', 'P06-1066', 'P06-1067', 'P06-1072', 'P06-1077', 'P06-1084', 'P06-1085', 'P06-1091', 'P06-1095', 'P06-1097', 'P06-1101', 'P06-1103', 'P06-1104', 'P06-1109', 'P06-1114', 'P06-1115', 'P06-1121', 'P06-1123', 'P06-1124', 'P06-1134', 'P06-2005', 'P06-2006', 'P06-2014', 'P06-2066', 'P06-2094', 'P06-2101', 'P06-3002', 'P06-4020', 'P07-1003', 'P07-1004', 'P07-1005', 'P07-1007', 'P07-1019', 'P07-1028', 'P07-1030', 'P07-1031', 'P07-1032', 'P07-1034', 'P07-1036', 'P07-1037', 'P07-1040', 'P07-1049', 'P07-1055', 'P07-1056', 'P07-1059', 'P07-1065', 'P07-1073', 'P07-1091', 'P07-1092', 'P07-1094', 'P07-1096', 'P07-1098', 'P07-1106', 'P07-1107', 'P07-1121', 'P07-1123', 'P07-1125', 'P07-2045', 'P08-1004', 'P08-1012', 'P08-1023', 'P08-1024', 'P08-1028', 'P08-1030', 'P08-1036', 'P08-1043', 'P08-1064', 'P08-1066', 'P08-1067', 'P08-1068', 'P08-1076', 'P08-1084', 'P08-1085', 'P08-1086', 'P08-1088', 'P08-1090', 'P08-1101', 'P08-1102', 'P08-1108', 'P08-1109', 'P08-1114', 'P08-1115', 'P08-1119', 'P08-2007', 'P08-2012', 'P08-2026', 'P09-1010', 'P09-1011', 'P09-1019', 'P09-1026', 'P09-1027', 'P09-1039', 'P09-1040', 'P09-1042', 'P09-1057', 'P09-1058', 'P09-1068', 'P09-1074', 'P09-1077', 'P09-1088', 'P09-1094', 'P09-1104', 'P09-1113', 'P09-1116', 'P09-2004', 'P09-2012', 'P10-1001', 'P10-1040', 'P10-1044', 'P10-1052', 'P10-1110', 'P10-1142', 'P10-1146', 'P10-2041', 'P10-4002', 'P11-1016', 'P11-1019', 'P11-1020', 'P11-1038', 'P11-1055', 'P11-1060', 'P11-1061', 'P11-1098', 'P11-1138', 'P11-2008', 'P11-2031', 'P11-2033', 'P12-1092', 'P13-1045', 'P83-1007', 'P83-1019', 'P83-1020', 'P83-1021', 'P84-1008', 'P84-1018', 'P84-1075', 'P84-1085', 'P85-1008', 'P85-1011', 'P85-1018', 'P86-1004', 'P86-1031', 'P87-1015', 'P87-1022', 'P87-1033', 'P88-1012', 'P88-1015', 'P88-1020', 'P89-1002', 'P89-1009', 'P89-1010', 'P89-1031', 'P90-1005', 'P90-1010', 'P90-1032', 'P90-1034', 'P91-1017', 'P91-1022', 'P91-1023', 'P91-1027', 'P91-1030', 'P91-1034', 'P92-1005', 'P92-1008', 'P92-1017', 'P92-1032', 'P93-1001', 'P93-1002', 'P93-1003', 'P93-1005', 'P93-1008', 'P93-1016', 'P93-1020', 'P93-1022', 'P93-1023', 'P93-1024', 'P93-1032', 'P93-1035', 'P93-1041', 'P94-1002', 'P94-1012', 'P94-1013', 'P94-1019', 'P94-1020', 'P95-1007', 'P95-1021', 'P95-1026', 'P95-1034', 'P95-1037', 'P95-1050', 'P96-1006', 'P96-1008', 'P96-1011', 'P96-1021', 'P96-1024', 'P96-1025', 'P96-1027', 'P96-1038', 'P96-1041', 'P96-1042', 'P97-1003', 'P97-1005', 'P97-1009', 'P97-1013', 'P97-1017', 'P97-1023', 'P97-1035', 'P97-1041', 'P97-1063', 'P98-1010', 'P98-1012', 'P98-1013', 'P98-1029', 'P98-1034', 'P98-1035', 'P98-1046', 'P98-1069', 'P98-1081', 'P98-1106', 'P98-1112', 'P98-2127', 'P98-2143', 'P98-2173', 'P98-2177', 'P98-2180', 'P98-2182', 'P98-2204', 'P99-1004', 'P99-1008', 'P99-1014', 'P99-1016', 'P99-1032', 'P99-1041', 'P99-1042', 'P99-1048', 'P99-1059', 'P99-1065', 'P99-1067', 'P99-1068', 'P99-1069', 'P99-1071', 'S10-1010', 'S10-1011', 'S12-1053', 'W00-0403', 'W00-0712', 'W00-0717', 'W00-0726', 'W00-0730', 'W00-1201', 'W00-1303', 'W00-1308', 'W00-1401', 'W00-1427', 'W01-0501', 'W01-0511', 'W01-0513', 'W01-0514', 'W01-0521', 'W01-1313', 'W01-1605', 'W02-0109', 'W02-0301', 'W02-0505', 'W02-0603', 'W02-0817', 'W02-0902', 'W02-0908', 'W02-1001', 'W02-1006', 'W02-1011', 'W02-1018', 'W02-1021', 'W02-1028', 'W02-1039', 'W02-1210', 'W02-1502', 'W02-1503', 'W02-2016', 'W02-2018', 'W02-2024', 'W02-2026', 'W03-0301', 'W03-0404', 'W03-0405', 'W03-0407', 'W03-0419', 'W03-0424', 'W03-0425', 'W03-0428', 'W03-0430', 'W03-0501', 'W03-1006', 'W03-1008', 'W03-1011', 'W03-1014', 'W03-1017', 'W03-1028', 'W03-1508', 'W03-1719', 'W03-1728', 'W03-1730', 'W03-1809', 'W03-1810', 'W03-1812', 'W04-0308', 'W04-0803', 'W04-0807', 'W04-0811', 'W04-1013', 'W04-1221', 'W04-2319', 'W04-2401', 'W04-2406', 'W04-2407', 'W04-2609', 'W04-2705', 'W04-3103', 'W04-3111', 'W04-3201', 'W04-3205', 'W04-3206', 'W04-3207', 'W04-3208', 'W04-3212', 'W04-3213', 'W04-3219', 'W04-3230', 'W04-3236', 'W04-3237', 'W04-3239', 'W04-3247', 'W04-3250', 'W04-3252', 'W04-3253', 'W05-0602', 'W05-0625', 'W05-0904', 'W05-0909', 'W05-1203', 'W05-1506', 'W05-1513', 'W06-0301', 'W06-1203', 'W06-1606', 'W06-1607', 'W06-1615', 'W06-1616', 'W06-1639', 'W06-1642', 'W06-1651', 'W06-1670', 'W06-2501', 'W06-2915', 'W06-2920', 'W06-2922', 'W06-2932', 'W06-2933', 'W06-3105', 'W06-3108', 'W06-3114', 'W06-3119', 'W06-3601', 'W06-3808', 'W06-3812', 'W07-0403', 'W07-0702', 'W07-0717', 'W07-0718', 'W07-0733', 'W07-0734', 'W07-1401', 'W07-1604', 'W07-2002', 'W07-2006', 'W07-2009', 'W07-2012', 'W07-2014', 'W07-2016', 'W07-2018', 'W07-2216', 'W08-0309', 'W08-0336', 'W08-0509', 'W08-1301', 'W08-2102', 'W08-2121', 'W08-2123', 'W09-0401', 'W09-0424', 'W09-0432', 'W09-0441', 'W09-1105', 'W09-1119', 'W09-1304', 'W09-1401', 'W10-0204', 'W10-0701', 'W10-1703', 'W10-2805', 'W10-2903', 'W10-3001', 'W11-0705', 'W11-1801', 'W11-1802', 'W11-1901', 'W11-1902', 'W11-2103', 'W11-2107', 'W11-2123', 'W12-3102', 'W93-0301', 'W94-0319', 'W95-0101', 'W95-0103', 'W95-0104', 'W95-0105', 'W95-0107', 'W95-0115', 'W96-0102', 'W96-0208', 'W96-0213', 'W96-0214', 'W97-0109', 'W97-0119', 'W97-0209', 'W97-0301', 'W97-0302', 'W97-0311', 'W97-0313', 'W97-0322', 'W97-0703', 'W97-0713', 'W97-0802', 'W97-1306', 'W98-0705', 'W98-1106', 'W98-1115', 'W98-1118', 'W98-1119', 'W98-1411', 'W99-0501', 'W99-0604', 'W99-0611', 'W99-0612', 'W99-0613', 'W99-0623', 'W99-0625', 'W99-0629']\n"
     ]
    }
   ],
   "source": [
    "print(paper_ids)"
   ]
  },
  {
   "cell_type": "code",
   "execution_count": 37,
   "metadata": {},
   "outputs": [
    {
     "name": "stdout",
     "output_type": "stream",
     "text": [
      "1009\n"
     ]
    }
   ],
   "source": [
    "papers_xml = []\n",
    "\n",
    "for id in paper_ids:\n",
    "    with open(f\"top1000_complete/{id}/Documents_xml/{id}.xml\", \"r\", encoding=\"utf8\") as f:\n",
    "        papers_xml += [f.read()]\n",
    "\n",
    "print(len(papers_xml))"
   ]
  },
  {
   "cell_type": "code",
   "execution_count": 39,
   "metadata": {},
   "outputs": [
    {
     "name": "stdout",
     "output_type": "stream",
     "text": [
      "<PAPER>\n",
      "  <S sid=\"0\">TnT - A Statistical Part-Of-Speech Tagger</S>\n",
      "  <ABSTRACT>\n",
      "    <S sid=\"1\" ssid=\"1\">Trigrams'n'Tags (TnT) is an efficient statistical part-of-speech tagger.</S>\n",
      "    <S sid=\"2\" ssid=\"2\">Contrary to claims found elsewhere in the literature, we argue that a tagger based on Markov models performs at least as well as other current approaches, including the Maximum Entropy framework.</S>\n",
      "    <S sid=\"3\" ssid=\"3\">A recent comparison has even shown that TnT performs significantly better for the tested corpora.</S>\n",
      "    <S sid=\"4\" ssid=\"4\">We describe the basic model of TnT, the techniques used for smoothing and for handling unknown words.</S>\n",
      "    <S sid=\"5\" ssid=\"5\">Furthermore, we present evaluations on two corpora.</S>\n",
      "  </ABSTRACT>\n",
      "  <SECTION title=\"1 Introduction\" number=\"1\">\n",
      "    <S sid=\"6\" ssid=\"1\">A large number of current language processing systems use a part-of-speech tagger for pre-processing.</S>\n",
      "    <S sid=\"7\" ssid=\"2\">The tagger assigns a (unique or ambiguous) part-ofspeech tag to each token in the input and passes its output to the next processing level, usually a parser.</S>\n",
      "    <S sid=\"8\" ssid=\"3\">Furthermore, there is a large interest in part-ofspeech tagging for corpus annotation projects, who create valuable linguistic resources by a combination of automatic processing and human correction.</S>\n",
      "    <S sid=\"9\" ssid=\"4\">For both applications, a tagger with the highest possible accuracy is required.</S>\n",
      "    <S sid=\"10\" ssid=\"5\">The debate about which paradigm solves the part-of-speech tagging problem best is not finished.</S>\n",
      "    <S sid=\"11\" ssid=\"6\">Recent comparisons of approaches that can be trained on corpora (van Halteren et al., 1998; Volk and Schneider, 1998) have shown that in most cases statistical aproaches (Cutting et al., 1992; Schmid, 1995; Ratnaparkhi, 1996) yield better results than finite-state, rule-based, or memory-based taggers (Brill, 1993; Daelemans et al., 1996).</S>\n",
      "    <S sid=\"12\" ssid=\"7\">They are only surpassed by combinations of different systems, forming a &amp;quot;voting tagger&amp;quot;.</S>\n",
      "    <S sid=\"13\" ssid=\"8\">Among the statistical approaches, the Maximum Entropy framework has a very strong position.</S>\n",
      "    <S sid=\"14\" ssid=\"9\">Nevertheless, a recent independent comparison of 7 taggers (Zavrel and Daelemans, 1999) has shown that another approach even works better: Markov models combined with a good smoothing technique and with handling of unknown words.</S>\n",
      "    <S sid=\"15\" ssid=\"10\">This tagger, TnT, not only yielded the highest accuracy, it also was the fastest both in training and tagging.</S>\n",
      "    <S sid=\"16\" ssid=\"11\">The tagger comparison was organized as a &amp;quot;blackbox test&amp;quot;: set the same task to every tagger and compare the outcomes.</S>\n",
      "    <S sid=\"17\" ssid=\"12\">This paper describes the models and techniques used by TnT together with the implementation.</S>\n",
      "    <S sid=\"18\" ssid=\"13\">The reader will be surprised how simple the underlying model is.</S>\n",
      "    <S sid=\"19\" ssid=\"14\">The result of the tagger comparison seems to support the maxime &amp;quot;the simplest is the best&amp;quot;.</S>\n",
      "    <S sid=\"20\" ssid=\"15\">However, in this paper we clarify a number of details that are omitted in major previous publications concerning tagging with Markov models.</S>\n",
      "    <S sid=\"21\" ssid=\"16\">As two examples, (Rabiner, 1989) and (Charniak et al., 1993) give good overviews of the techniques and equations used for Markov models and part-ofspeech tagging, but they are not very explicit in the details that are needed for their application.</S>\n",
      "    <S sid=\"22\" ssid=\"17\">We argue that it is not only the choice of the general model that determines the result of the tagger but also the various &amp;quot;small&amp;quot; decisions on alternatives.</S>\n",
      "    <S sid=\"23\" ssid=\"18\">The aim of this paper is to give a detailed account of the techniques used in TnT.</S>\n",
      "    <S sid=\"24\" ssid=\"19\">Additionally, we present results of the tagger on the NEGRA corpus (Brants et al., 1999) and the Penn Treebank (Marcus et al., 1993).</S>\n",
      "    <S sid=\"25\" ssid=\"20\">The Penn Treebank results reported here for the Markov model approach are at least equivalent to those reported for the Maximum Entropy approach in (Ratnaparkhi, 1996).</S>\n",
      "    <S sid=\"26\" ssid=\"21\">For a comparison to other taggers, the reader is referred to (Zavrel and Daelemans, 1999).</S>\n",
      "  </SECTION>\n",
      "  <SECTION title=\"2 Architecture\" number=\"2\">\n",
      "    <S sid=\"27\" ssid=\"1\">TnT uses second order Markov models for part-ofspeech tagging.</S>\n",
      "    <S sid=\"28\" ssid=\"2\">The states of the model represent tags, outputs represent the words.</S>\n",
      "    <S sid=\"29\" ssid=\"3\">Transition probabilities depend on the states, thus pairs of tags.</S>\n",
      "    <S sid=\"30\" ssid=\"4\">Output probabilities only depend on the most recent category.</S>\n",
      "    <S sid=\"31\" ssid=\"5\">To be explicit, we calculate for a given sequence of words w1 of length T. t1 tr are elements of the tagset, the additional tags t_1, to, and t7-,&#177;1 are beginning-of-sequence and end-of-sequence markers.</S>\n",
      "    <S sid=\"32\" ssid=\"6\">Using these additional tags, even if they stem from rudimentary processing of punctuation marks, slightly improves tagging results.</S>\n",
      "    <S sid=\"33\" ssid=\"7\">This is different from formulas presented in other publications, which just stop with a &amp;quot;loose end&amp;quot; at the last word.</S>\n",
      "    <S sid=\"34\" ssid=\"8\">If sentence boundaries are not marked in the input, TnT adds these tags if it encounters one of [.!?</S>\n",
      "    <S sid=\"35\" ssid=\"9\">;] as a token.</S>\n",
      "    <S sid=\"36\" ssid=\"10\">Transition and output probabilities are estimated from a tagged corpus.</S>\n",
      "    <S sid=\"37\" ssid=\"11\">As a first step, we use the maximum likelihood probabilities P which are derived from the relative frequencies: for all t1, t2, t3 in the tagset and w3 in the lexicon.</S>\n",
      "    <S sid=\"38\" ssid=\"12\">N is the total number of tokens in the training corpus.</S>\n",
      "    <S sid=\"39\" ssid=\"13\">We define a maximum likelihood probability to be zero if the corresponding nominators and denominators are zero.</S>\n",
      "    <S sid=\"40\" ssid=\"14\">As a second step, contextual frequencies are smoothed and lexical frequences are completed by handling words that are not in the lexicon (see below).</S>\n",
      "    <S sid=\"41\" ssid=\"15\">Trigram probabilities generated from a corpus usually cannot directly be used because of the sparsedata problem.</S>\n",
      "    <S sid=\"42\" ssid=\"16\">This means that there are not enough instances for each trigram to reliably estimate the probability.</S>\n",
      "    <S sid=\"43\" ssid=\"17\">Furthermore, setting a probability to zero because the corresponding trigram never occured in the corpus has an undesired effect.</S>\n",
      "    <S sid=\"44\" ssid=\"18\">It causes the probability of a complete sequence to be set to zero if its use is necessary for a new text sequence, thus makes it impossible to rank different sequences containing a zero probability.</S>\n",
      "    <S sid=\"45\" ssid=\"19\">The smoothing paradigm that delivers the best results in TnT is linear interpolation of unigrams, bigrams, and trigrams.</S>\n",
      "    <S sid=\"46\" ssid=\"20\">Therefore, we estimate a trigram probability as follows: P are maximum likelihood estimates of the probabilities, and A1 + A2 &#177; A3 = 1, SO P again represent probability distributions.</S>\n",
      "    <S sid=\"47\" ssid=\"21\">We use the context-independent variant of linear interpolation, i.e., the values of the As do not depend on the particular trigram.</S>\n",
      "    <S sid=\"48\" ssid=\"22\">Contrary to intuition, this yields better results than the context-dependent variant.</S>\n",
      "    <S sid=\"49\" ssid=\"23\">Due to sparse-data problems, one cannot estimate a different set of As for each trigram.</S>\n",
      "    <S sid=\"50\" ssid=\"24\">Therefore, it is common practice to group trigrams by frequency and estimate tied sets of As.</S>\n",
      "    <S sid=\"51\" ssid=\"25\">However, we are not aware of any publication that has investigated frequency groupings for linear interpolation in part-of-speech tagging.</S>\n",
      "    <S sid=\"52\" ssid=\"26\">All groupings that we have tested yielded at most equivalent results to contextindependent linear interpolation.</S>\n",
      "    <S sid=\"53\" ssid=\"27\">Some groupings even yielded worse results.</S>\n",
      "    <S sid=\"54\" ssid=\"28\">The tested groupings included a) one set of As for each frequency value and b) two classes (low and high frequency) on the two ends of the scale, as well as several groupings in between and several settings for partitioning the classes.</S>\n",
      "    <S sid=\"55\" ssid=\"29\">The values of A1, A2, and A3 are estimated by deleted interpolation.</S>\n",
      "    <S sid=\"56\" ssid=\"30\">This technique successively removes each trigram from the training corpus and estimates best values for the As from all other ngrams in the corpus.</S>\n",
      "    <S sid=\"57\" ssid=\"31\">Given the frequency counts for uni-, bi-, and trigrams, the weights can be very efficiently determined with a processing time linear in the number of different trigrams.</S>\n",
      "    <S sid=\"58\" ssid=\"32\">The algorithm is given in figure 1.</S>\n",
      "    <S sid=\"59\" ssid=\"33\">Note that subtracting 1 means taking unseen data into account.</S>\n",
      "    <S sid=\"60\" ssid=\"34\">Without this subtraction the model would overfit the training data and would generally yield worse results.</S>\n",
      "    <S sid=\"61\" ssid=\"35\">Currently, the method of handling unknown words that seems to work best for inflected languages is a suffix analysis as proposed in (Samuelsson, 1993).</S>\n",
      "    <S sid=\"62\" ssid=\"36\">Tag probabilities are set according to the word's ending.</S>\n",
      "    <S sid=\"63\" ssid=\"37\">The suffix is a strong predictor for word classes, e.g., words in the Wall Street Journal part of the Penn Treebank ending in able are adjectives (.11) in 98% of the cases (e.g. fashionable, variable) , the rest of 2% are nouns (e.g. cable, variable).</S>\n",
      "    <S sid=\"64\" ssid=\"38\">The probability distribution for a particular suffix is generated from all words in the training set that share the same suffix of some predefined maximum length.</S>\n",
      "    <S sid=\"65\" ssid=\"39\">The term suffix as used here means &amp;quot;final sequence of characters of a word&amp;quot; which is not necessarily a linguistically meaningful suffix.</S>\n",
      "    <S sid=\"66\" ssid=\"40\">Probabilities are smoothed by successive abstraction.</S>\n",
      "    <S sid=\"67\" ssid=\"41\">This calculates the probability of a tag t given the last m letters i of an n letter word: P(t1/7&#8222;,+1,,..ln).</S>\n",
      "    <S sid=\"68\" ssid=\"42\">The sequence of increasingly more general contexts omits more and more characters of the suffix, such that P(tlin-m+2, &#8226; &#8226; &#8226; P(tlin_m+3, ,i), , P(t) are used for smoothing.</S>\n",
      "    <S sid=\"69\" ssid=\"43\">The recursion formula is set A = A2 = A3 = 0 foreach trigram t1,t2,t3 with f (ti,t2,t3) &gt;0 depending on the maximum of the following three values: for i = m ... 0, using the maximum likelihood estimates P from frequencies in the lexicon, weights Oi and the initialization For the Markov model, we need the inverse conditional probabilities P(1,2_1+1, ... /Tilt) which are obtained by Bayesian inversion.</S>\n",
      "    <S sid=\"70\" ssid=\"44\">A theoretical motivated argumentation uses the standard deviation of the maximum likelihood probabilities for the weights 0, (Samuelsson, 1993).</S>\n",
      "    <S sid=\"71\" ssid=\"45\">This leaves room for interpretation.</S>\n",
      "    <S sid=\"72\" ssid=\"46\">We use the longest suffix that we can find in the training set (i.e., for which the frequency is greater than or equal to 1), but at most 10 characters.</S>\n",
      "    <S sid=\"73\" ssid=\"47\">This is an empirically determined choice.</S>\n",
      "    <S sid=\"74\" ssid=\"48\">2) We use a context-independent approach for 0&#8222; as we did for the contextual weights A.</S>\n",
      "    <S sid=\"75\" ssid=\"49\">It turned out to be a good choice to set all 0, to the standard deviation of the unconditioned maximum likelihood probabilities of the tags in the training corpus, i.e., we set for all i = 0 ... m &#8212; 1, using a tagset of s tags and the average (11) This usually yields values in the range 0,03 ... 0.10.</S>\n",
      "    <S sid=\"76\" ssid=\"50\">3) We use different estimates for uppercase and lowercase words, i.e., we maintain two different suffix tries depending on the capitalization of the word.</S>\n",
      "    <S sid=\"77\" ssid=\"51\">This information improves the tagging results.</S>\n",
      "    <S sid=\"78\" ssid=\"52\">4) Another freedom concerns the choice of the words in the lexicon that should be used for suffix handling.</S>\n",
      "    <S sid=\"79\" ssid=\"53\">Should we use all words, or are some of them better suited than others?</S>\n",
      "    <S sid=\"80\" ssid=\"54\">Accepting that unknown words are most probably infrequent, one can argue that using suffixes of infrequent words in the lexicon is a better approximation for unknown words than using suffixes of frequent words.</S>\n",
      "    <S sid=\"81\" ssid=\"55\">Therefore, we restrict the procedure of suffix handling to words with a frequency smaller than or equal to some threshold value.</S>\n",
      "    <S sid=\"82\" ssid=\"56\">Empirically, 10 turned out to be a good choice for this threshold.</S>\n",
      "    <S sid=\"83\" ssid=\"57\">Additional information that turned out to be useful for the disambiguation process for several corpora and tagsets is capitalization information.</S>\n",
      "    <S sid=\"84\" ssid=\"58\">Tags are usually not informative about capitalization, but probability distributions of tags around capitalized words are different from those not capitalized.</S>\n",
      "    <S sid=\"85\" ssid=\"59\">The effect is larger for English, which only capitalizes proper names, and smaller for German, which capitalizes all nouns.</S>\n",
      "    <S sid=\"86\" ssid=\"60\">We use flags ci that are true if wi is a capitalized word and false otherwise.</S>\n",
      "    <S sid=\"87\" ssid=\"61\">These flags are added to the contextual probability distributions.</S>\n",
      "    <S sid=\"88\" ssid=\"62\">Instead of and equations (3) to (5) are updated accordingly.</S>\n",
      "    <S sid=\"89\" ssid=\"63\">This is equivalent to doubling the size of the tagset and using different tags depending on capitalization.</S>\n",
      "    <S sid=\"90\" ssid=\"64\">The processing time of the Viterbi algorithm (Rabiner, 1989) can be reduced by introducing a beam search.</S>\n",
      "    <S sid=\"91\" ssid=\"65\">Each state that receives a 6 value smaller than the largest 6 divided by some threshold value 0 is excluded from further processing.</S>\n",
      "    <S sid=\"92\" ssid=\"66\">While the Viterbi algorithm is guaranteed to find the sequence of states with the highest probability, this is no longer true when beam search is added.</S>\n",
      "    <S sid=\"93\" ssid=\"67\">Nevertheless, for practical purposes and the right choice of 0, there is virtually no difference between the algorithm with and without a beam.</S>\n",
      "    <S sid=\"94\" ssid=\"68\">Empirically, a value of 0 = 1000 turned out to approximately double the speed of the tagger without affecting the accuracy.</S>\n",
      "    <S sid=\"95\" ssid=\"69\">The tagger currently tags between 30,000 and 60,000 tokens per second (including file I/O) on a Pentium 500 running Linux.</S>\n",
      "    <S sid=\"96\" ssid=\"70\">The speed mainly depends on the percentage of unknown words and on the average ambiguity rate.</S>\n",
      "  </SECTION>\n",
      "  <SECTION title=\"3 Evaluation\" number=\"3\">\n",
      "    <S sid=\"97\" ssid=\"1\">We evaluate the tagger's performance under several aspects.</S>\n",
      "    <S sid=\"98\" ssid=\"2\">First of all, we determine the tagging accuracy averaged over ten iterations.</S>\n",
      "    <S sid=\"99\" ssid=\"3\">The overall accuracy, as well as separate accuracies for known and unknown words are measured.</S>\n",
      "    <S sid=\"100\" ssid=\"4\">Second, learning curves are presented, that indicate the performance when using training corpora of different sizes, starting with as few as 1,000 tokens and ranging to the size of the entire corpus (minus the test set).</S>\n",
      "    <S sid=\"101\" ssid=\"5\">An important characteristic of statistical taggers is that they not only assign tags to words but also probabilities in order to rank different assignments.</S>\n",
      "    <S sid=\"102\" ssid=\"6\">We distinguish reliable from unreliable assignments by the quotient of the best and second best assignmentsl .</S>\n",
      "    <S sid=\"103\" ssid=\"7\">All assignments for which this quotient is larger than some threshold are regarded as reliable, the others as unreliable.</S>\n",
      "    <S sid=\"104\" ssid=\"8\">As we will see below, accuracies for reliable assignments are much higher.</S>\n",
      "    <S sid=\"105\" ssid=\"9\">The tests are performed on partitions of the corpora that use 90% as training set and 10% as test set, so that the test data is guaranteed to be unseen during training.</S>\n",
      "    <S sid=\"106\" ssid=\"10\">Each result is obtained by repeating the experiment 10 times with different partitions and averaging the single outcomes.</S>\n",
      "    <S sid=\"107\" ssid=\"11\">In all experiments, contiguous test sets are used.</S>\n",
      "    <S sid=\"108\" ssid=\"12\">The alternative is a round-robin procedure that puts every 10th sentence into the test set.</S>\n",
      "    <S sid=\"109\" ssid=\"13\">We argue that contiguous test sets yield more realistic results because completely unseen articles are tagged.</S>\n",
      "    <S sid=\"110\" ssid=\"14\">Using the round-robin procedure, parts of an article are already seen, which significantly reduces the percentage of unknown words.</S>\n",
      "    <S sid=\"111\" ssid=\"15\">Therefore, we expect even 'By definition, this quotient is oo if there is only one possible tag for a given word. higher results when testing on every 10th sentence instead of a contiguous set of 10%.</S>\n",
      "    <S sid=\"112\" ssid=\"16\">In the following, accuracy denotes the number of correctly assigned tags divided by the number of tokens in the corpus processed.</S>\n",
      "    <S sid=\"113\" ssid=\"17\">The tagger is allowed to assign exactly one tag to each token.</S>\n",
      "    <S sid=\"114\" ssid=\"18\">We distinguish the overall accuracy, taking into account all tokens in the test corpus, and separate accuracies for known and unknown tokens.</S>\n",
      "    <S sid=\"115\" ssid=\"19\">The latter are interesting, since usually unknown tokens are much more difficult to process than known tokens, for which a list of valid tags can be found in the lexicon.</S>\n",
      "    <S sid=\"116\" ssid=\"20\">The German NEGRA corpus consists of 20,000 sentences (355,000 tokens) of newspaper texts (Frankfurter Rundschau) that are annotated with parts-ofspeech and predicate-argument structures (Skut et al., 1997).</S>\n",
      "    <S sid=\"117\" ssid=\"21\">It was developed at the Saarland University in Saarbriicken2.</S>\n",
      "    <S sid=\"118\" ssid=\"22\">Part of it was tagged at the IMS Stuttgart.</S>\n",
      "    <S sid=\"119\" ssid=\"23\">This evaluation only uses the partof-speech annotation and ignores structural annotations.</S>\n",
      "    <S sid=\"120\" ssid=\"24\">Tagging accuracies for the NEGRA corpus are shown in table 2.</S>\n",
      "    <S sid=\"121\" ssid=\"25\">Figure 3 shows the learning curve of the tagger, i.e., the accuracy depending on the amount of training data.</S>\n",
      "    <S sid=\"122\" ssid=\"26\">Training length is the number of tokens used for training.</S>\n",
      "    <S sid=\"123\" ssid=\"27\">Each training length was tested ten times, training and test sets were randomly chosen and disjoint, results were averaged.</S>\n",
      "    <S sid=\"124\" ssid=\"28\">The training length is given on a logarithmic scale.</S>\n",
      "    <S sid=\"125\" ssid=\"29\">It is remarkable that tagging accuracy for known words is very high even for very small training corpora.</S>\n",
      "    <S sid=\"126\" ssid=\"30\">This means that we have a good chance of getting the right tag if a word is seen at least once during training.</S>\n",
      "    <S sid=\"127\" ssid=\"31\">Average percentages of unknown tokens are shown in the bottom line of each diagram.</S>\n",
      "    <S sid=\"128\" ssid=\"32\">We exploit the fact that the tagger not only determines tags, but also assigns probabilities.</S>\n",
      "    <S sid=\"129\" ssid=\"33\">If there is an alternative that has a probability &amp;quot;close to&amp;quot; that of the best assignment, this alternative can be viewed as almost equally well suited.</S>\n",
      "    <S sid=\"130\" ssid=\"34\">The notion of &amp;quot;close to&amp;quot; is expressed by the distance of probabilities, and this in turn is expressed by the quotient of probabilities.</S>\n",
      "    <S sid=\"131\" ssid=\"35\">So, the distance of the probabilities of a best tag tbest and an alternative tag tau is expressed by p(tbest)/P(talt)7 which is some value greater or equal to 1 since the best tag assignment has the highest probability.</S>\n",
      "    <S sid=\"132\" ssid=\"36\">Figure 4 shows the accuracy when separating assignments with quotients larger and smaller than the threshold (hence reliable and unreliable assignments).</S>\n",
      "    <S sid=\"133\" ssid=\"37\">As expected, we find that accuracies for percentage known unknown &#8226; overall unknowns acc. acc. acc. a Table 5: Part-of-speech tagging accuracy for the Penn Treebank.</S>\n",
      "    <S sid=\"134\" ssid=\"38\">The table shows the percentage of unknown tokens, separate accuracies and standard deviations for known and unknown tokens, as well as the overall accuracy. percentage known unknown overall unknowns acc. acc. acc. reliable assignments are much higher than for unreliable assignments.</S>\n",
      "    <S sid=\"135\" ssid=\"39\">This distinction is, e.g., useful for annotation projects during the cleaning process, or during pre-processing, so the tagger can emit multiple tags if the best tag is classified as unreliable.</S>\n",
      "    <S sid=\"136\" ssid=\"40\">We use the Wall Street Journal as contained in the Penn Treebank for our experiments.</S>\n",
      "    <S sid=\"137\" ssid=\"41\">The annotation consists of four parts: 1) a context-free structure augmented with traces to mark movement and discontinuous constituents, 2) phrasal categories that are annotated as node labels, 3) a small set of grammatical functions that are annotated as extensions to the node labels, and 4) part-of-speech tags (Marcus et al., 1993).</S>\n",
      "    <S sid=\"138\" ssid=\"42\">This evaluation only uses the part-ofspeech annotation.</S>\n",
      "    <S sid=\"139\" ssid=\"43\">The Wall Street Journal part of the Penn Treebank consists of approx.</S>\n",
      "    <S sid=\"140\" ssid=\"44\">50,000 sentences (1.2 million tokens).</S>\n",
      "    <S sid=\"141\" ssid=\"45\">Tagging accuracies for the Penn Treebank are shown in table 5.</S>\n",
      "    <S sid=\"142\" ssid=\"46\">Figure 6 shows the learning curve of the tagger, i.e., the accuracy depending on the amount of training data.</S>\n",
      "    <S sid=\"143\" ssid=\"47\">Training length is the number of tokens used for training.</S>\n",
      "    <S sid=\"144\" ssid=\"48\">Each training length was tested ten times.</S>\n",
      "    <S sid=\"145\" ssid=\"49\">Training and test sets were disjoint, results are averaged.</S>\n",
      "    <S sid=\"146\" ssid=\"50\">The training length is given on a logarithmic scale.</S>\n",
      "    <S sid=\"147\" ssid=\"51\">As for the NEGRA corpus, tagging accuracy is very high for known tokens even with small amounts of training data.</S>\n",
      "    <S sid=\"148\" ssid=\"52\">We exploit the fact that the tagger not only determines tags, but also assigns probabilities.</S>\n",
      "    <S sid=\"149\" ssid=\"53\">Figure 7 shows the accuracy when separating assignments with quotients larger and smaller than the threshold (hence reliable and unreliable assignments).</S>\n",
      "    <S sid=\"150\" ssid=\"54\">Again, we find that accuracies for reliable assignments are much higher than for unreliable assignments.</S>\n",
      "    <S sid=\"151\" ssid=\"55\">Average part-of-speech tagging accuracy is between 96% and 97%, depending on language and tagset, which is at least on a par with state-of-the-art results found in the literature, possibly better.</S>\n",
      "    <S sid=\"152\" ssid=\"56\">For the Penn Treebank, (Ratnaparkhi, 1996) reports an accuracy of 96.6% using the Maximum Entropy approach, our much simpler and therefore faster HMM approach delivers 96.7%.</S>\n",
      "    <S sid=\"153\" ssid=\"57\">This comparison needs to be re-examined, since we use a ten-fold crossvalidation and averaging of results while Ratnaparkhi only makes one test run.</S>\n",
      "    <S sid=\"154\" ssid=\"58\">The accuracy for known tokens is significantly higher than for unknown tokens.</S>\n",
      "    <S sid=\"155\" ssid=\"59\">For the German newspaper data, results are 8.7% better when the word was seen before and therefore is in the lexicon, than when it was not seen before (97.7% vs. 89.0%).</S>\n",
      "    <S sid=\"156\" ssid=\"60\">Accuracy for known tokens is high even with very small amounts of training data.</S>\n",
      "    <S sid=\"157\" ssid=\"61\">As few as 1000 tokens are sufficient to achieve 95%-96% accuracy for them.</S>\n",
      "    <S sid=\"158\" ssid=\"62\">It is important for the tagger to have seen a word at least once during training.</S>\n",
      "    <S sid=\"159\" ssid=\"63\">Stochastic taggers assign probabilities to tags.</S>\n",
      "    <S sid=\"160\" ssid=\"64\">We exploit the probabilities to determine reliability of assignments.</S>\n",
      "    <S sid=\"161\" ssid=\"65\">For a subset that is determined during processing by the tagger we achieve accuracy rates of over 99%.</S>\n",
      "    <S sid=\"162\" ssid=\"66\">The accuracy of the complement set is much lower.</S>\n",
      "    <S sid=\"163\" ssid=\"67\">This information can, e.g., be exploited in an annotation project to give an additional treatment to the unreliable assignments, or to pass selected ambiguities to a subsequent processing step.</S>\n",
      "  </SECTION>\n",
      "  <SECTION title=\"4 Conclusion\" number=\"4\">\n",
      "    <S sid=\"164\" ssid=\"1\">We have shown that a tagger based on Markov models yields state-of-the-art results, despite contrary claims found in the literature.</S>\n",
      "    <S sid=\"165\" ssid=\"2\">For example, the Markov model tagger used in the comparison of (van Halteren et al., 1998) yielded worse results than all other taggers.</S>\n",
      "    <S sid=\"166\" ssid=\"3\">In our opinion, a reason for the wrong claim is that the basic algorithms leave several decisions to the implementor.</S>\n",
      "    <S sid=\"167\" ssid=\"4\">The rather large amount of freedom was not handled in detail in previous publications: handling of start- and end-of-sequence, the exact smoothing technique, how to determine the weights for context probabilities, details on handling unknown words, and how to determine the weights for unknown words.</S>\n",
      "    <S sid=\"168\" ssid=\"5\">Note that the decisions we made yield good results for both the German and the English Corpus.</S>\n",
      "    <S sid=\"169\" ssid=\"6\">They do so for several other corpora as well.</S>\n",
      "    <S sid=\"170\" ssid=\"7\">The architecture remains applicable to a large variety of languages.</S>\n",
      "    <S sid=\"171\" ssid=\"8\">According to current tagger comparisons (van Halteren et al., 1998; Zavrel and Daelemans, 1999), and according to a comparsion of the results presented here with those in (Ratnaparkhi, 1996), the Maximum Entropy framework seems to be the only other approach yielding comparable results to the one presented here.</S>\n",
      "    <S sid=\"172\" ssid=\"9\">It is a very interesting future research topic to determine the advantages of either of these approaches, to find the reason for their high accuracies, and to find a good combination of both.</S>\n",
      "    <S sid=\"173\" ssid=\"10\">TnT is freely available to universities and related organizations for research purposes (see http://www.coli.uni-sb.derthorstenAnt).</S>\n",
      "  </SECTION>\n",
      "  <SECTION title=\"Acknowledgements\" number=\"5\">\n",
      "    <S sid=\"174\" ssid=\"1\">Many thanks go to Hans Uszkoreit for his support during the development of TnT.</S>\n",
      "    <S sid=\"175\" ssid=\"2\">Most of the work on TnT was carried out while the author received a grant of the Deutsche Forschungsgemeinschaft in the Graduiertenkolleg Kognitionswissenschaft Saarbriicken.</S>\n",
      "    <S sid=\"176\" ssid=\"3\">Large annotated corpora are the pre-requisite for developing and testing part-ofspeech taggers, and they enable the generation of high-quality language models.</S>\n",
      "    <S sid=\"177\" ssid=\"4\">Therefore, I would like to thank all the people who took the effort to annotate the Penn Treebank, the Susanne Corpus, the Stuttgarter Referenzkorpus, the NEGRA Corpus, the Verbmobil Corpora, and several others.</S>\n",
      "    <S sid=\"178\" ssid=\"5\">And, last but not least, I would like to thank the users of TnT who provided me with bug reports and valuable suggestions for improvements.</S>\n",
      "  </SECTION>\n",
      "</PAPER>\n",
      "\n"
     ]
    }
   ],
   "source": [
    "print(papers_xml[0])"
   ]
  },
  {
   "cell_type": "code",
   "execution_count": 43,
   "metadata": {},
   "outputs": [
    {
     "name": "stdout",
     "output_type": "stream",
     "text": [
      "Trigrams'n'Tags (TnT) is an efficient statistical part-of-speech tagger.\n",
      "Contrary to claims found elsewhere in the literature, we argue that a tagger based on Markov models performs at least as well as other current approaches, including the Maximum Entropy framework.\n",
      "A recent comparison has even shown that TnT performs significantly better for the tested corpora.\n",
      "We describe the basic model of TnT, the techniques used for smoothing and for handling unknown words.\n",
      "Furthermore, we present evaluations on two corpora.\n",
      "\n",
      "1 Introduction\n",
      "A large number of current language processing systems use a part-of-speech tagger for pre-processing.\n",
      "The tagger assigns a (unique or ambiguous) part-ofspeech tag to each token in the input and passes its output to the next processing level, usually a parser.\n",
      "Furthermore, there is a large interest in part-ofspeech tagging for corpus annotation projects, who create valuable linguistic resources by a combination of automatic processing and human correction.\n",
      "For both applications, a tagger with the highest possible accuracy is required.\n",
      "The debate about which paradigm solves the part-of-speech tagging problem best is not finished.\n",
      "Recent comparisons of approaches that can be trained on corpora (van Halteren et al., 1998; Volk and Schneider, 1998) have shown that in most cases statistical aproaches (Cutting et al., 1992; Schmid, 1995; Ratnaparkhi, 1996) yield better results than finite-state, rule-based, or memory-based taggers (Brill, 1993; Daelemans et al., 1996).\n",
      "They are only surpassed by combinations of different systems, forming a &quot;voting tagger&quot;.\n",
      "Among the statistical approaches, the Maximum Entropy framework has a very strong position.\n",
      "Nevertheless, a recent independent comparison of 7 taggers (Zavrel and Daelemans, 1999) has shown that another approach even works better: Markov models combined with a good smoothing technique and with handling of unknown words.\n",
      "This tagger, TnT, not only yielded the highest accuracy, it also was the fastest both in training and tagging.\n",
      "The tagger comparison was organized as a &quot;blackbox test&quot;: set the same task to every tagger and compare the outcomes.\n",
      "This paper describes the models and techniques used by TnT together with the implementation.\n",
      "The reader will be surprised how simple the underlying model is.\n",
      "The result of the tagger comparison seems to support the maxime &quot;the simplest is the best&quot;.\n",
      "However, in this paper we clarify a number of details that are omitted in major previous publications concerning tagging with Markov models.\n",
      "As two examples, (Rabiner, 1989) and (Charniak et al., 1993) give good overviews of the techniques and equations used for Markov models and part-ofspeech tagging, but they are not very explicit in the details that are needed for their application.\n",
      "We argue that it is not only the choice of the general model that determines the result of the tagger but also the various &quot;small&quot; decisions on alternatives.\n",
      "The aim of this paper is to give a detailed account of the techniques used in TnT.\n",
      "Additionally, we present results of the tagger on the NEGRA corpus (Brants et al., 1999) and the Penn Treebank (Marcus et al., 1993).\n",
      "The Penn Treebank results reported here for the Markov model approach are at least equivalent to those reported for the Maximum Entropy approach in (Ratnaparkhi, 1996).\n",
      "For a comparison to other taggers, the reader is referred to (Zavrel and Daelemans, 1999).\n",
      "2 Architecture\n",
      "TnT uses second order Markov models for part-ofspeech tagging.\n",
      "The states of the model represent tags, outputs represent the words.\n",
      "Transition probabilities depend on the states, thus pairs of tags.\n",
      "Output probabilities only depend on the most recent category.\n",
      "To be explicit, we calculate for a given sequence of words w1 of length T. t1 tr are elements of the tagset, the additional tags t_1, to, and t7-,±1 are beginning-of-sequence and end-of-sequence markers.\n",
      "Using these additional tags, even if they stem from rudimentary processing of punctuation marks, slightly improves tagging results.\n",
      "This is different from formulas presented in other publications, which just stop with a &quot;loose end&quot; at the last word.\n",
      "If sentence boundaries are not marked in the input, TnT adds these tags if it encounters one of [.!?\n",
      ";] as a token.\n",
      "Transition and output probabilities are estimated from a tagged corpus.\n",
      "As a first step, we use the maximum likelihood probabilities P which are derived from the relative frequencies: for all t1, t2, t3 in the tagset and w3 in the lexicon.\n",
      "N is the total number of tokens in the training corpus.\n",
      "We define a maximum likelihood probability to be zero if the corresponding nominators and denominators are zero.\n",
      "As a second step, contextual frequencies are smoothed and lexical frequences are completed by handling words that are not in the lexicon (see below).\n",
      "Trigram probabilities generated from a corpus usually cannot directly be used because of the sparsedata problem.\n",
      "This means that there are not enough instances for each trigram to reliably estimate the probability.\n",
      "Furthermore, setting a probability to zero because the corresponding trigram never occured in the corpus has an undesired effect.\n",
      "It causes the probability of a complete sequence to be set to zero if its use is necessary for a new text sequence, thus makes it impossible to rank different sequences containing a zero probability.\n",
      "The smoothing paradigm that delivers the best results in TnT is linear interpolation of unigrams, bigrams, and trigrams.\n",
      "Therefore, we estimate a trigram probability as follows: P are maximum likelihood estimates of the probabilities, and A1 + A2 ± A3 = 1, SO P again represent probability distributions.\n",
      "We use the context-independent variant of linear interpolation, i.e., the values of the As do not depend on the particular trigram.\n",
      "Contrary to intuition, this yields better results than the context-dependent variant.\n",
      "Due to sparse-data problems, one cannot estimate a different set of As for each trigram.\n",
      "Therefore, it is common practice to group trigrams by frequency and estimate tied sets of As.\n",
      "However, we are not aware of any publication that has investigated frequency groupings for linear interpolation in part-of-speech tagging.\n",
      "All groupings that we have tested yielded at most equivalent results to contextindependent linear interpolation.\n",
      "Some groupings even yielded worse results.\n",
      "The tested groupings included a) one set of As for each frequency value and b) two classes (low and high frequency) on the two ends of the scale, as well as several groupings in between and several settings for partitioning the classes.\n",
      "The values of A1, A2, and A3 are estimated by deleted interpolation.\n",
      "This technique successively removes each trigram from the training corpus and estimates best values for the As from all other ngrams in the corpus.\n",
      "Given the frequency counts for uni-, bi-, and trigrams, the weights can be very efficiently determined with a processing time linear in the number of different trigrams.\n",
      "The algorithm is given in figure 1.\n",
      "Note that subtracting 1 means taking unseen data into account.\n",
      "Without this subtraction the model would overfit the training data and would generally yield worse results.\n",
      "Currently, the method of handling unknown words that seems to work best for inflected languages is a suffix analysis as proposed in (Samuelsson, 1993).\n",
      "Tag probabilities are set according to the word's ending.\n",
      "The suffix is a strong predictor for word classes, e.g., words in the Wall Street Journal part of the Penn Treebank ending in able are adjectives (.11) in 98% of the cases (e.g. fashionable, variable) , the rest of 2% are nouns (e.g. cable, variable).\n",
      "The probability distribution for a particular suffix is generated from all words in the training set that share the same suffix of some predefined maximum length.\n",
      "The term suffix as used here means &quot;final sequence of characters of a word&quot; which is not necessarily a linguistically meaningful suffix.\n",
      "Probabilities are smoothed by successive abstraction.\n",
      "This calculates the probability of a tag t given the last m letters i of an n letter word: P(t1/7„,+1,,..ln).\n",
      "The sequence of increasingly more general contexts omits more and more characters of the suffix, such that P(tlin-m+2, • • • P(tlin_m+3, ,i), , P(t) are used for smoothing.\n",
      "The recursion formula is set A = A2 = A3 = 0 foreach trigram t1,t2,t3 with f (ti,t2,t3) >0 depending on the maximum of the following three values: for i = m ... 0, using the maximum likelihood estimates P from frequencies in the lexicon, weights Oi and the initialization For the Markov model, we need the inverse conditional probabilities P(1,2_1+1, ... /Tilt) which are obtained by Bayesian inversion.\n",
      "A theoretical motivated argumentation uses the standard deviation of the maximum likelihood probabilities for the weights 0, (Samuelsson, 1993).\n",
      "This leaves room for interpretation.\n",
      "We use the longest suffix that we can find in the training set (i.e., for which the frequency is greater than or equal to 1), but at most 10 characters.\n",
      "This is an empirically determined choice.\n",
      "2) We use a context-independent approach for 0„ as we did for the contextual weights A.\n",
      "It turned out to be a good choice to set all 0, to the standard deviation of the unconditioned maximum likelihood probabilities of the tags in the training corpus, i.e., we set for all i = 0 ... m — 1, using a tagset of s tags and the average (11) This usually yields values in the range 0,03 ... 0.10.\n",
      "3) We use different estimates for uppercase and lowercase words, i.e., we maintain two different suffix tries depending on the capitalization of the word.\n",
      "This information improves the tagging results.\n",
      "4) Another freedom concerns the choice of the words in the lexicon that should be used for suffix handling.\n",
      "Should we use all words, or are some of them better suited than others?\n",
      "Accepting that unknown words are most probably infrequent, one can argue that using suffixes of infrequent words in the lexicon is a better approximation for unknown words than using suffixes of frequent words.\n",
      "Therefore, we restrict the procedure of suffix handling to words with a frequency smaller than or equal to some threshold value.\n",
      "Empirically, 10 turned out to be a good choice for this threshold.\n",
      "Additional information that turned out to be useful for the disambiguation process for several corpora and tagsets is capitalization information.\n",
      "Tags are usually not informative about capitalization, but probability distributions of tags around capitalized words are different from those not capitalized.\n",
      "The effect is larger for English, which only capitalizes proper names, and smaller for German, which capitalizes all nouns.\n",
      "We use flags ci that are true if wi is a capitalized word and false otherwise.\n",
      "These flags are added to the contextual probability distributions.\n",
      "Instead of and equations (3) to (5) are updated accordingly.\n",
      "This is equivalent to doubling the size of the tagset and using different tags depending on capitalization.\n",
      "The processing time of the Viterbi algorithm (Rabiner, 1989) can be reduced by introducing a beam search.\n",
      "Each state that receives a 6 value smaller than the largest 6 divided by some threshold value 0 is excluded from further processing.\n",
      "While the Viterbi algorithm is guaranteed to find the sequence of states with the highest probability, this is no longer true when beam search is added.\n",
      "Nevertheless, for practical purposes and the right choice of 0, there is virtually no difference between the algorithm with and without a beam.\n",
      "Empirically, a value of 0 = 1000 turned out to approximately double the speed of the tagger without affecting the accuracy.\n",
      "The tagger currently tags between 30,000 and 60,000 tokens per second (including file I/O) on a Pentium 500 running Linux.\n",
      "The speed mainly depends on the percentage of unknown words and on the average ambiguity rate.\n",
      "3 Evaluation\n",
      "We evaluate the tagger's performance under several aspects.\n",
      "First of all, we determine the tagging accuracy averaged over ten iterations.\n",
      "The overall accuracy, as well as separate accuracies for known and unknown words are measured.\n",
      "Second, learning curves are presented, that indicate the performance when using training corpora of different sizes, starting with as few as 1,000 tokens and ranging to the size of the entire corpus (minus the test set).\n",
      "An important characteristic of statistical taggers is that they not only assign tags to words but also probabilities in order to rank different assignments.\n",
      "We distinguish reliable from unreliable assignments by the quotient of the best and second best assignmentsl .\n",
      "All assignments for which this quotient is larger than some threshold are regarded as reliable, the others as unreliable.\n",
      "As we will see below, accuracies for reliable assignments are much higher.\n",
      "The tests are performed on partitions of the corpora that use 90% as training set and 10% as test set, so that the test data is guaranteed to be unseen during training.\n",
      "Each result is obtained by repeating the experiment 10 times with different partitions and averaging the single outcomes.\n",
      "In all experiments, contiguous test sets are used.\n",
      "The alternative is a round-robin procedure that puts every 10th sentence into the test set.\n",
      "We argue that contiguous test sets yield more realistic results because completely unseen articles are tagged.\n",
      "Using the round-robin procedure, parts of an article are already seen, which significantly reduces the percentage of unknown words.\n",
      "Therefore, we expect even 'By definition, this quotient is oo if there is only one possible tag for a given word. higher results when testing on every 10th sentence instead of a contiguous set of 10%.\n",
      "In the following, accuracy denotes the number of correctly assigned tags divided by the number of tokens in the corpus processed.\n",
      "The tagger is allowed to assign exactly one tag to each token.\n",
      "We distinguish the overall accuracy, taking into account all tokens in the test corpus, and separate accuracies for known and unknown tokens.\n",
      "The latter are interesting, since usually unknown tokens are much more difficult to process than known tokens, for which a list of valid tags can be found in the lexicon.\n",
      "The German NEGRA corpus consists of 20,000 sentences (355,000 tokens) of newspaper texts (Frankfurter Rundschau) that are annotated with parts-ofspeech and predicate-argument structures (Skut et al., 1997).\n",
      "It was developed at the Saarland University in Saarbriicken2.\n",
      "Part of it was tagged at the IMS Stuttgart.\n",
      "This evaluation only uses the partof-speech annotation and ignores structural annotations.\n",
      "Tagging accuracies for the NEGRA corpus are shown in table 2.\n",
      "Figure 3 shows the learning curve of the tagger, i.e., the accuracy depending on the amount of training data.\n",
      "Training length is the number of tokens used for training.\n",
      "Each training length was tested ten times, training and test sets were randomly chosen and disjoint, results were averaged.\n",
      "The training length is given on a logarithmic scale.\n",
      "It is remarkable that tagging accuracy for known words is very high even for very small training corpora.\n",
      "This means that we have a good chance of getting the right tag if a word is seen at least once during training.\n",
      "Average percentages of unknown tokens are shown in the bottom line of each diagram.\n",
      "We exploit the fact that the tagger not only determines tags, but also assigns probabilities.\n",
      "If there is an alternative that has a probability &quot;close to&quot; that of the best assignment, this alternative can be viewed as almost equally well suited.\n",
      "The notion of &quot;close to&quot; is expressed by the distance of probabilities, and this in turn is expressed by the quotient of probabilities.\n",
      "So, the distance of the probabilities of a best tag tbest and an alternative tag tau is expressed by p(tbest)/P(talt)7 which is some value greater or equal to 1 since the best tag assignment has the highest probability.\n",
      "Figure 4 shows the accuracy when separating assignments with quotients larger and smaller than the threshold (hence reliable and unreliable assignments).\n",
      "As expected, we find that accuracies for percentage known unknown • overall unknowns acc. acc. acc. a Table 5: Part-of-speech tagging accuracy for the Penn Treebank.\n",
      "The table shows the percentage of unknown tokens, separate accuracies and standard deviations for known and unknown tokens, as well as the overall accuracy. percentage known unknown overall unknowns acc. acc. acc. reliable assignments are much higher than for unreliable assignments.\n",
      "This distinction is, e.g., useful for annotation projects during the cleaning process, or during pre-processing, so the tagger can emit multiple tags if the best tag is classified as unreliable.\n",
      "We use the Wall Street Journal as contained in the Penn Treebank for our experiments.\n",
      "The annotation consists of four parts: 1) a context-free structure augmented with traces to mark movement and discontinuous constituents, 2) phrasal categories that are annotated as node labels, 3) a small set of grammatical functions that are annotated as extensions to the node labels, and 4) part-of-speech tags (Marcus et al., 1993).\n",
      "This evaluation only uses the part-ofspeech annotation.\n",
      "The Wall Street Journal part of the Penn Treebank consists of approx.\n",
      "50,000 sentences (1.2 million tokens).\n",
      "Tagging accuracies for the Penn Treebank are shown in table 5.\n",
      "Figure 6 shows the learning curve of the tagger, i.e., the accuracy depending on the amount of training data.\n",
      "Training length is the number of tokens used for training.\n",
      "Each training length was tested ten times.\n",
      "Training and test sets were disjoint, results are averaged.\n",
      "The training length is given on a logarithmic scale.\n",
      "As for the NEGRA corpus, tagging accuracy is very high for known tokens even with small amounts of training data.\n",
      "We exploit the fact that the tagger not only determines tags, but also assigns probabilities.\n",
      "Figure 7 shows the accuracy when separating assignments with quotients larger and smaller than the threshold (hence reliable and unreliable assignments).\n",
      "Again, we find that accuracies for reliable assignments are much higher than for unreliable assignments.\n",
      "Average part-of-speech tagging accuracy is between 96% and 97%, depending on language and tagset, which is at least on a par with state-of-the-art results found in the literature, possibly better.\n",
      "For the Penn Treebank, (Ratnaparkhi, 1996) reports an accuracy of 96.6% using the Maximum Entropy approach, our much simpler and therefore faster HMM approach delivers 96.7%.\n",
      "This comparison needs to be re-examined, since we use a ten-fold crossvalidation and averaging of results while Ratnaparkhi only makes one test run.\n",
      "The accuracy for known tokens is significantly higher than for unknown tokens.\n",
      "For the German newspaper data, results are 8.7% better when the word was seen before and therefore is in the lexicon, than when it was not seen before (97.7% vs. 89.0%).\n",
      "Accuracy for known tokens is high even with very small amounts of training data.\n",
      "As few as 1000 tokens are sufficient to achieve 95%-96% accuracy for them.\n",
      "It is important for the tagger to have seen a word at least once during training.\n",
      "Stochastic taggers assign probabilities to tags.\n",
      "We exploit the probabilities to determine reliability of assignments.\n",
      "For a subset that is determined during processing by the tagger we achieve accuracy rates of over 99%.\n",
      "The accuracy of the complement set is much lower.\n",
      "This information can, e.g., be exploited in an annotation project to give an additional treatment to the unreliable assignments, or to pass selected ambiguities to a subsequent processing step.\n",
      "4 Conclusion\n",
      "We have shown that a tagger based on Markov models yields state-of-the-art results, despite contrary claims found in the literature.\n",
      "For example, the Markov model tagger used in the comparison of (van Halteren et al., 1998) yielded worse results than all other taggers.\n",
      "In our opinion, a reason for the wrong claim is that the basic algorithms leave several decisions to the implementor.\n",
      "The rather large amount of freedom was not handled in detail in previous publications: handling of start- and end-of-sequence, the exact smoothing technique, how to determine the weights for context probabilities, details on handling unknown words, and how to determine the weights for unknown words.\n",
      "Note that the decisions we made yield good results for both the German and the English Corpus.\n",
      "They do so for several other corpora as well.\n",
      "The architecture remains applicable to a large variety of languages.\n",
      "According to current tagger comparisons (van Halteren et al., 1998; Zavrel and Daelemans, 1999), and according to a comparsion of the results presented here with those in (Ratnaparkhi, 1996), the Maximum Entropy framework seems to be the only other approach yielding comparable results to the one presented here.\n",
      "It is a very interesting future research topic to determine the advantages of either of these approaches, to find the reason for their high accuracies, and to find a good combination of both.\n",
      "TnT is freely available to universities and related organizations for research purposes (see http://www.coli.uni-sb.derthorstenAnt).\n",
      "Acknowledgements\n",
      "Many thanks go to Hans Uszkoreit for his support during the development of TnT.\n",
      "Most of the work on TnT was carried out while the author received a grant of the Deutsche Forschungsgemeinschaft in the Graduiertenkolleg Kognitionswissenschaft Saarbriicken.\n",
      "Large annotated corpora are the pre-requisite for developing and testing part-ofspeech taggers, and they enable the generation of high-quality language models.\n",
      "Therefore, I would like to thank all the people who took the effort to annotate the Penn Treebank, the Susanne Corpus, the Stuttgarter Referenzkorpus, the NEGRA Corpus, the Verbmobil Corpora, and several others.\n",
      "And, last but not least, I would like to thank the users of TnT who provided me with bug reports and valuable suggestions for improvements.\n",
      "\n"
     ]
    }
   ],
   "source": [
    "from xml.etree import cElementTree as ET\n",
    "root = ET.fromstring(papers_xml[0])\n",
    "#paper = root.find(\"PAPER\")\n",
    "abstract = root.find(\"ABSTRACT\")\n",
    "\n",
    "result = \"\"\n",
    "\n",
    "for s in list(abstract):\n",
    "    result += s.text + \"\\n\"\n",
    "\n",
    "result += \"\\n\"\n",
    "\n",
    "for section in root.findall(\"SECTION\"):\n",
    "    result += section.get(\"title\") + \"\\n\"\n",
    "    for s in list(section):\n",
    "        result += s.text + \"\\n\"\n",
    "\n",
    "print(result)"
   ]
  },
  {
   "cell_type": "code",
   "execution_count": 50,
   "metadata": {},
   "outputs": [
    {
     "name": "stdout",
     "output_type": "stream",
     "text": [
      "1009\n"
     ]
    }
   ],
   "source": [
    "papers = []\n",
    "\n",
    "for paper_xml in papers_xml:\n",
    "    root = ET.fromstring(paper_xml)\n",
    "    abstract = root.find(\"ABSTRACT\")\n",
    "\n",
    "    result = \"\"\n",
    "\n",
    "    if abstract:\n",
    "        for s in list(abstract):\n",
    "            result += s.text + \"\\n\"\n",
    "\n",
    "    result += \"\\n\"\n",
    "\n",
    "    for section in root.findall(\"SECTION\"):\n",
    "        result += section.get(\"title\") + \"\\n\"\n",
    "        for s in list(section):\n",
    "            result += s.text + \"\\n\"\n",
    "\n",
    "    papers += [result]\n",
    "\n",
    "print(len(papers))"
   ]
  },
  {
   "cell_type": "code",
   "execution_count": 51,
   "metadata": {},
   "outputs": [],
   "source": [
    "df = pd.DataFrame(papers, columns=[\"text\"])\n",
    "df[\"class\"] = \"paper\""
   ]
  },
  {
   "cell_type": "code",
   "execution_count": 52,
   "metadata": {},
   "outputs": [
    {
     "data": {
      "text/html": [
       "<div>\n",
       "<style scoped>\n",
       "    .dataframe tbody tr th:only-of-type {\n",
       "        vertical-align: middle;\n",
       "    }\n",
       "\n",
       "    .dataframe tbody tr th {\n",
       "        vertical-align: top;\n",
       "    }\n",
       "\n",
       "    .dataframe thead th {\n",
       "        text-align: right;\n",
       "    }\n",
       "</style>\n",
       "<table border=\"1\" class=\"dataframe\">\n",
       "  <thead>\n",
       "    <tr style=\"text-align: right;\">\n",
       "      <th></th>\n",
       "      <th>text</th>\n",
       "      <th>class</th>\n",
       "    </tr>\n",
       "  </thead>\n",
       "  <tbody>\n",
       "    <tr>\n",
       "      <th>0</th>\n",
       "      <td>Trigrams'n'Tags (TnT) is an efficient statisti...</td>\n",
       "      <td>paper</td>\n",
       "    </tr>\n",
       "    <tr>\n",
       "      <th>1</th>\n",
       "      <td>Figure 2: Sample sentence and parse tree we ha...</td>\n",
       "      <td>paper</td>\n",
       "    </tr>\n",
       "    <tr>\n",
       "      <th>2</th>\n",
       "      <td>This paper describes a method for linear text ...</td>\n",
       "      <td>paper</td>\n",
       "    </tr>\n",
       "    <tr>\n",
       "      <th>3</th>\n",
       "      <td>This paper presents a corpus-based approach to...</td>\n",
       "      <td>paper</td>\n",
       "    </tr>\n",
       "    <tr>\n",
       "      <th>4</th>\n",
       "      <td>We present a new parser for parsing down to Pe...</td>\n",
       "      <td>paper</td>\n",
       "    </tr>\n",
       "  </tbody>\n",
       "</table>\n",
       "</div>"
      ],
      "text/plain": [
       "                                                text  class\n",
       "0  Trigrams'n'Tags (TnT) is an efficient statisti...  paper\n",
       "1  Figure 2: Sample sentence and parse tree we ha...  paper\n",
       "2  This paper describes a method for linear text ...  paper\n",
       "3  This paper presents a corpus-based approach to...  paper\n",
       "4  We present a new parser for parsing down to Pe...  paper"
      ]
     },
     "execution_count": 52,
     "metadata": {},
     "output_type": "execute_result"
    }
   ],
   "source": [
    "df.head(5)"
   ]
  },
  {
   "cell_type": "code",
   "execution_count": 53,
   "metadata": {},
   "outputs": [],
   "source": [
    "df.to_csv(\"papers.csv\", index=False)"
   ]
  },
  {
   "attachments": {},
   "cell_type": "markdown",
   "metadata": {},
   "source": [
    "## Konkatenation der einzelnen Datensätze"
   ]
  },
  {
   "cell_type": "code",
   "execution_count": 54,
   "metadata": {},
   "outputs": [
    {
     "data": {
      "text/plain": [
       "192368"
      ]
     },
     "execution_count": 54,
     "metadata": {},
     "output_type": "execute_result"
    }
   ],
   "source": [
    "df = pd.read_csv(\"medium_articles.csv\")\n",
    "len(df)"
   ]
  },
  {
   "cell_type": "code",
   "execution_count": 63,
   "metadata": {},
   "outputs": [],
   "source": [
    "blogs = df.sample(20000, random_state=42).copy()"
   ]
  },
  {
   "cell_type": "code",
   "execution_count": 64,
   "metadata": {},
   "outputs": [],
   "source": [
    "blogs[\"class\"] = \"blog\""
   ]
  },
  {
   "cell_type": "code",
   "execution_count": 67,
   "metadata": {},
   "outputs": [
    {
     "data": {
      "text/html": [
       "<div>\n",
       "<style scoped>\n",
       "    .dataframe tbody tr th:only-of-type {\n",
       "        vertical-align: middle;\n",
       "    }\n",
       "\n",
       "    .dataframe tbody tr th {\n",
       "        vertical-align: top;\n",
       "    }\n",
       "\n",
       "    .dataframe thead th {\n",
       "        text-align: right;\n",
       "    }\n",
       "</style>\n",
       "<table border=\"1\" class=\"dataframe\">\n",
       "  <thead>\n",
       "    <tr style=\"text-align: right;\">\n",
       "      <th></th>\n",
       "      <th>text</th>\n",
       "      <th>class</th>\n",
       "    </tr>\n",
       "  </thead>\n",
       "  <tbody>\n",
       "    <tr>\n",
       "      <th>51649</th>\n",
       "      <td>→ Flagman\\n\\nIt seems logical to start the inv...</td>\n",
       "      <td>blog</td>\n",
       "    </tr>\n",
       "    <tr>\n",
       "      <th>68568</th>\n",
       "      <td>Liberal Arts Blog — Wednesday is the Joy of Sc...</td>\n",
       "      <td>blog</td>\n",
       "    </tr>\n",
       "    <tr>\n",
       "      <th>176024</th>\n",
       "      <td>We want to give a huge shout out to our early ...</td>\n",
       "      <td>blog</td>\n",
       "    </tr>\n",
       "    <tr>\n",
       "      <th>59788</th>\n",
       "      <td>It’s time to raise the bar on our conversation...</td>\n",
       "      <td>blog</td>\n",
       "    </tr>\n",
       "    <tr>\n",
       "      <th>58637</th>\n",
       "      <td>Seeking Arrangement and tech bro CEO’s fashion...</td>\n",
       "      <td>blog</td>\n",
       "    </tr>\n",
       "  </tbody>\n",
       "</table>\n",
       "</div>"
      ],
      "text/plain": [
       "                                                     text class\n",
       "51649   → Flagman\\n\\nIt seems logical to start the inv...  blog\n",
       "68568   Liberal Arts Blog — Wednesday is the Joy of Sc...  blog\n",
       "176024  We want to give a huge shout out to our early ...  blog\n",
       "59788   It’s time to raise the bar on our conversation...  blog\n",
       "58637   Seeking Arrangement and tech bro CEO’s fashion...  blog"
      ]
     },
     "execution_count": 67,
     "metadata": {},
     "output_type": "execute_result"
    }
   ],
   "source": [
    "blogs[[\"text\", \"class\"]].head(5)"
   ]
  },
  {
   "cell_type": "code",
   "execution_count": 68,
   "metadata": {},
   "outputs": [
    {
     "data": {
      "text/plain": [
       "120000"
      ]
     },
     "execution_count": 68,
     "metadata": {},
     "output_type": "execute_result"
    }
   ],
   "source": [
    "df = pd.read_csv(\"train.csv\")\n",
    "len(df)"
   ]
  },
  {
   "cell_type": "code",
   "execution_count": 70,
   "metadata": {},
   "outputs": [],
   "source": [
    "news = df.sample(20000, random_state=42).copy()\n",
    "news[\"class\"] = \"news\""
   ]
  },
  {
   "cell_type": "code",
   "execution_count": 72,
   "metadata": {},
   "outputs": [],
   "source": [
    "news[\"text\"] = news[\"Title\"] + \"\\n\\n\" + news[\"Description\"]"
   ]
  },
  {
   "cell_type": "code",
   "execution_count": 73,
   "metadata": {},
   "outputs": [
    {
     "data": {
      "text/html": [
       "<div>\n",
       "<style scoped>\n",
       "    .dataframe tbody tr th:only-of-type {\n",
       "        vertical-align: middle;\n",
       "    }\n",
       "\n",
       "    .dataframe tbody tr th {\n",
       "        vertical-align: top;\n",
       "    }\n",
       "\n",
       "    .dataframe thead th {\n",
       "        text-align: right;\n",
       "    }\n",
       "</style>\n",
       "<table border=\"1\" class=\"dataframe\">\n",
       "  <thead>\n",
       "    <tr style=\"text-align: right;\">\n",
       "      <th></th>\n",
       "      <th>text</th>\n",
       "      <th>class</th>\n",
       "    </tr>\n",
       "  </thead>\n",
       "  <tbody>\n",
       "    <tr>\n",
       "      <th>71787</th>\n",
       "      <td>BBC set for major shake-up, claims newspaper\\n...</td>\n",
       "      <td>news</td>\n",
       "    </tr>\n",
       "    <tr>\n",
       "      <th>67218</th>\n",
       "      <td>Marsh averts cash crunch\\n\\nEmbattled insuranc...</td>\n",
       "      <td>news</td>\n",
       "    </tr>\n",
       "    <tr>\n",
       "      <th>54066</th>\n",
       "      <td>Jeter, Yankees Look to Take Control (AP)\\n\\nAP...</td>\n",
       "      <td>news</td>\n",
       "    </tr>\n",
       "    <tr>\n",
       "      <th>7168</th>\n",
       "      <td>Flying the Sun to Safety\\n\\nWhen the Genesis c...</td>\n",
       "      <td>news</td>\n",
       "    </tr>\n",
       "    <tr>\n",
       "      <th>29618</th>\n",
       "      <td>Stocks Seen Flat as Nortel and Oil Weigh\\n\\n N...</td>\n",
       "      <td>news</td>\n",
       "    </tr>\n",
       "  </tbody>\n",
       "</table>\n",
       "</div>"
      ],
      "text/plain": [
       "                                                    text class\n",
       "71787  BBC set for major shake-up, claims newspaper\\n...  news\n",
       "67218  Marsh averts cash crunch\\n\\nEmbattled insuranc...  news\n",
       "54066  Jeter, Yankees Look to Take Control (AP)\\n\\nAP...  news\n",
       "7168   Flying the Sun to Safety\\n\\nWhen the Genesis c...  news\n",
       "29618  Stocks Seen Flat as Nortel and Oil Weigh\\n\\n N...  news"
      ]
     },
     "execution_count": 73,
     "metadata": {},
     "output_type": "execute_result"
    }
   ],
   "source": [
    "news[[\"text\", \"class\"]].head(5)"
   ]
  },
  {
   "cell_type": "code",
   "execution_count": 84,
   "metadata": {},
   "outputs": [
    {
     "data": {
      "text/plain": [
       "17340"
      ]
     },
     "execution_count": 84,
     "metadata": {},
     "output_type": "execute_result"
    }
   ],
   "source": [
    "df = pd.read_csv(\"cleaned_reviews.csv\")\n",
    "len(df)"
   ]
  },
  {
   "cell_type": "code",
   "execution_count": 85,
   "metadata": {},
   "outputs": [],
   "source": [
    "reviews = df.copy()\n",
    "reviews[\"class\"] = \"review\""
   ]
  },
  {
   "cell_type": "code",
   "execution_count": 86,
   "metadata": {},
   "outputs": [],
   "source": [
    "reviews[\"text\"] = reviews[\"cleaned_review\"]"
   ]
  },
  {
   "cell_type": "code",
   "execution_count": 87,
   "metadata": {},
   "outputs": [
    {
     "data": {
      "text/html": [
       "<div>\n",
       "<style scoped>\n",
       "    .dataframe tbody tr th:only-of-type {\n",
       "        vertical-align: middle;\n",
       "    }\n",
       "\n",
       "    .dataframe tbody tr th {\n",
       "        vertical-align: top;\n",
       "    }\n",
       "\n",
       "    .dataframe thead th {\n",
       "        text-align: right;\n",
       "    }\n",
       "</style>\n",
       "<table border=\"1\" class=\"dataframe\">\n",
       "  <thead>\n",
       "    <tr style=\"text-align: right;\">\n",
       "      <th></th>\n",
       "      <th>text</th>\n",
       "      <th>class</th>\n",
       "    </tr>\n",
       "  </thead>\n",
       "  <tbody>\n",
       "    <tr>\n",
       "      <th>0</th>\n",
       "      <td>i wish would have gotten one earlier love it a...</td>\n",
       "      <td>review</td>\n",
       "    </tr>\n",
       "    <tr>\n",
       "      <th>1</th>\n",
       "      <td>i ve learned this lesson again open the packag...</td>\n",
       "      <td>review</td>\n",
       "    </tr>\n",
       "    <tr>\n",
       "      <th>2</th>\n",
       "      <td>it is so slow and lags find better option</td>\n",
       "      <td>review</td>\n",
       "    </tr>\n",
       "    <tr>\n",
       "      <th>3</th>\n",
       "      <td>roller ball stopped working within months of m...</td>\n",
       "      <td>review</td>\n",
       "    </tr>\n",
       "    <tr>\n",
       "      <th>4</th>\n",
       "      <td>i like the color and size but it few days out ...</td>\n",
       "      <td>review</td>\n",
       "    </tr>\n",
       "  </tbody>\n",
       "</table>\n",
       "</div>"
      ],
      "text/plain": [
       "                                                text   class\n",
       "0  i wish would have gotten one earlier love it a...  review\n",
       "1  i ve learned this lesson again open the packag...  review\n",
       "2          it is so slow and lags find better option  review\n",
       "3  roller ball stopped working within months of m...  review\n",
       "4  i like the color and size but it few days out ...  review"
      ]
     },
     "execution_count": 87,
     "metadata": {},
     "output_type": "execute_result"
    }
   ],
   "source": [
    "reviews[[\"text\", \"class\"]].head(5)"
   ]
  },
  {
   "cell_type": "code",
   "execution_count": 82,
   "metadata": {},
   "outputs": [
    {
     "data": {
      "text/plain": [
       "322"
      ]
     },
     "execution_count": 82,
     "metadata": {},
     "output_type": "execute_result"
    }
   ],
   "source": [
    "books = pd.read_csv(\"books.csv\")\n",
    "len(books)"
   ]
  },
  {
   "cell_type": "code",
   "execution_count": 83,
   "metadata": {},
   "outputs": [
    {
     "data": {
      "text/html": [
       "<div>\n",
       "<style scoped>\n",
       "    .dataframe tbody tr th:only-of-type {\n",
       "        vertical-align: middle;\n",
       "    }\n",
       "\n",
       "    .dataframe tbody tr th {\n",
       "        vertical-align: top;\n",
       "    }\n",
       "\n",
       "    .dataframe thead th {\n",
       "        text-align: right;\n",
       "    }\n",
       "</style>\n",
       "<table border=\"1\" class=\"dataframe\">\n",
       "  <thead>\n",
       "    <tr style=\"text-align: right;\">\n",
       "      <th></th>\n",
       "      <th>text</th>\n",
       "      <th>class</th>\n",
       "    </tr>\n",
       "  </thead>\n",
       "  <tbody>\n",
       "    <tr>\n",
       "      <th>0</th>\n",
       "      <td>When this book was written, the writer was und...</td>\n",
       "      <td>book</td>\n",
       "    </tr>\n",
       "    <tr>\n",
       "      <th>1</th>\n",
       "      <td>WHY AND WHEREFORE.\\n\\nIn making a study of my ...</td>\n",
       "      <td>book</td>\n",
       "    </tr>\n",
       "    <tr>\n",
       "      <th>2</th>\n",
       "      <td>SCENE OF THE MASSACRES IN ASIA MINOR.\\n\\nThe t...</td>\n",
       "      <td>book</td>\n",
       "    </tr>\n",
       "    <tr>\n",
       "      <th>3</th>\n",
       "      <td>DISINTERESTED EVIDENCE.\\n\\nI have thought it a...</td>\n",
       "      <td>book</td>\n",
       "    </tr>\n",
       "    <tr>\n",
       "      <th>4</th>\n",
       "      <td>of blackened ruins, the stark walls of the chu...</td>\n",
       "      <td>book</td>\n",
       "    </tr>\n",
       "  </tbody>\n",
       "</table>\n",
       "</div>"
      ],
      "text/plain": [
       "                                                text class\n",
       "0  When this book was written, the writer was und...  book\n",
       "1  WHY AND WHEREFORE.\\n\\nIn making a study of my ...  book\n",
       "2  SCENE OF THE MASSACRES IN ASIA MINOR.\\n\\nThe t...  book\n",
       "3  DISINTERESTED EVIDENCE.\\n\\nI have thought it a...  book\n",
       "4  of blackened ruins, the stark walls of the chu...  book"
      ]
     },
     "execution_count": 83,
     "metadata": {},
     "output_type": "execute_result"
    }
   ],
   "source": [
    "books[[\"text\", \"class\"]].head(5)"
   ]
  },
  {
   "cell_type": "code",
   "execution_count": 88,
   "metadata": {},
   "outputs": [
    {
     "data": {
      "text/plain": [
       "1009"
      ]
     },
     "execution_count": 88,
     "metadata": {},
     "output_type": "execute_result"
    }
   ],
   "source": [
    "papers = pd.read_csv(\"papers.csv\")\n",
    "len(papers)"
   ]
  },
  {
   "cell_type": "code",
   "execution_count": 89,
   "metadata": {},
   "outputs": [
    {
     "data": {
      "text/html": [
       "<div>\n",
       "<style scoped>\n",
       "    .dataframe tbody tr th:only-of-type {\n",
       "        vertical-align: middle;\n",
       "    }\n",
       "\n",
       "    .dataframe tbody tr th {\n",
       "        vertical-align: top;\n",
       "    }\n",
       "\n",
       "    .dataframe thead th {\n",
       "        text-align: right;\n",
       "    }\n",
       "</style>\n",
       "<table border=\"1\" class=\"dataframe\">\n",
       "  <thead>\n",
       "    <tr style=\"text-align: right;\">\n",
       "      <th></th>\n",
       "      <th>text</th>\n",
       "      <th>class</th>\n",
       "    </tr>\n",
       "  </thead>\n",
       "  <tbody>\n",
       "    <tr>\n",
       "      <th>0</th>\n",
       "      <td>Trigrams'n'Tags (TnT) is an efficient statisti...</td>\n",
       "      <td>paper</td>\n",
       "    </tr>\n",
       "    <tr>\n",
       "      <th>1</th>\n",
       "      <td>Figure 2: Sample sentence and parse tree we ha...</td>\n",
       "      <td>paper</td>\n",
       "    </tr>\n",
       "    <tr>\n",
       "      <th>2</th>\n",
       "      <td>This paper describes a method for linear text ...</td>\n",
       "      <td>paper</td>\n",
       "    </tr>\n",
       "    <tr>\n",
       "      <th>3</th>\n",
       "      <td>This paper presents a corpus-based approach to...</td>\n",
       "      <td>paper</td>\n",
       "    </tr>\n",
       "    <tr>\n",
       "      <th>4</th>\n",
       "      <td>We present a new parser for parsing down to Pe...</td>\n",
       "      <td>paper</td>\n",
       "    </tr>\n",
       "  </tbody>\n",
       "</table>\n",
       "</div>"
      ],
      "text/plain": [
       "                                                text  class\n",
       "0  Trigrams'n'Tags (TnT) is an efficient statisti...  paper\n",
       "1  Figure 2: Sample sentence and parse tree we ha...  paper\n",
       "2  This paper describes a method for linear text ...  paper\n",
       "3  This paper presents a corpus-based approach to...  paper\n",
       "4  We present a new parser for parsing down to Pe...  paper"
      ]
     },
     "execution_count": 89,
     "metadata": {},
     "output_type": "execute_result"
    }
   ],
   "source": [
    "papers[[\"text\", \"class\"]].head(5)"
   ]
  },
  {
   "cell_type": "code",
   "execution_count": null,
   "metadata": {},
   "outputs": [],
   "source": [
    "df = pd.concat([df1, df2], ignore_index=True, sort=False)"
   ]
  },
  {
   "cell_type": "code",
   "execution_count": null,
   "metadata": {},
   "outputs": [],
   "source": []
  }
 ],
 "metadata": {
  "kernelspec": {
   "display_name": "Python 3",
   "language": "python",
   "name": "python3"
  },
  "language_info": {
   "codemirror_mode": {
    "name": "ipython",
    "version": 3
   },
   "file_extension": ".py",
   "mimetype": "text/x-python",
   "name": "python",
   "nbconvert_exporter": "python",
   "pygments_lexer": "ipython3",
   "version": "3.10.4"
  },
  "orig_nbformat": 4
 },
 "nbformat": 4,
 "nbformat_minor": 2
}
