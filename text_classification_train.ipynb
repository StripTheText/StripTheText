{
 "cells": [
  {
   "cell_type": "code",
   "execution_count": 2,
   "metadata": {},
   "outputs": [],
   "source": [
    "import pandas as pd\n",
    "import numpy as np\n",
    "import seaborn as sns\n",
    "\n",
    "import tensorflow as tf\n",
    "from tensorflow.math import confusion_matrix\n",
    "from tensorflow.keras.losses import BinaryCrossentropy\n",
    "\n",
    "from keras.models import Sequential\n",
    "from keras.layers import Embedding, TextVectorization, Input, Dense, LSTM, Bidirectional, Dropout\n",
    "\n",
    "from sklearn.model_selection import train_test_split\n",
    "from sklearn.metrics import precision_score, recall_score, f1_score\n",
    "from matplotlib import pyplot as plt\n",
    "\n",
    "\n",
    "gpus = tf.config.experimental.list_physical_devices(\"GPU\")\n",
    "\n",
    "for gpu in gpus:\n",
    "    tf.config.experimental.set_memory_growth(gpu, True)"
   ]
  },
  {
   "cell_type": "code",
   "execution_count": 3,
   "metadata": {},
   "outputs": [
    {
     "name": "stdout",
     "output_type": "stream",
     "text": [
      "True\n",
      "[PhysicalDevice(name='/physical_device:GPU:0', device_type='GPU')]\n"
     ]
    }
   ],
   "source": [
    "print(tf.test.is_built_with_cuda())\n",
    "print(tf.config.list_physical_devices(\"GPU\"))"
   ]
  },
  {
   "cell_type": "code",
   "execution_count": 4,
   "metadata": {},
   "outputs": [
    {
     "data": {
      "text/plain": [
       "58671"
      ]
     },
     "execution_count": 4,
     "metadata": {},
     "output_type": "execute_result"
    }
   ],
   "source": [
    "data = pd.read_csv(\"data/data_merged.csv\")\n",
    "len(data)"
   ]
  },
  {
   "cell_type": "code",
   "execution_count": 23,
   "metadata": {},
   "outputs": [
    {
     "data": {
      "text/plain": [
       "<AxesSubplot:ylabel='class'>"
      ]
     },
     "execution_count": 23,
     "metadata": {},
     "output_type": "execute_result"
    },
    {
     "data": {
      "image/png": "[encoded data removed]",
      "text/plain": [
       "<Figure size 504x504 with 1 Axes>"
      ]
     },
     "metadata": {},
     "output_type": "display_data"
    }
   ],
   "source": [
    "data[\"class\"].value_counts().plot.pie(cmap=plt.cm.Blues, figsize=(7, 7), autopct=\"%1.1f%%\")"
   ]
  },
  {
   "attachments": {},
   "cell_type": "markdown",
   "metadata": {},
   "source": [
    "Todo: Ungleichverteilung auflösen -> mehr Samples für Bücher und wiss. Paper"
   ]
  },
  {
   "cell_type": "code",
   "execution_count": 5,
   "metadata": {},
   "outputs": [
    {
     "data": {
      "text/plain": [
       "58668"
      ]
     },
     "execution_count": 5,
     "metadata": {},
     "output_type": "execute_result"
    }
   ],
   "source": [
    "data = data.dropna(how=\"any\", axis=0)\n",
    "len(data)"
   ]
  },
  {
   "cell_type": "code",
   "execution_count": 16,
   "metadata": {},
   "outputs": [
    {
     "data": {
      "text/html": [
       "<div>\n",
       "<style scoped>\n",
       "    .dataframe tbody tr th:only-of-type {\n",
       "        vertical-align: middle;\n",
       "    }\n",
       "\n",
       "    .dataframe tbody tr th {\n",
       "        vertical-align: top;\n",
       "    }\n",
       "\n",
       "    .dataframe thead th {\n",
       "        text-align: right;\n",
       "    }\n",
       "</style>\n",
       "<table border=\"1\" class=\"dataframe\">\n",
       "  <thead>\n",
       "    <tr style=\"text-align: right;\">\n",
       "      <th></th>\n",
       "      <th>blog</th>\n",
       "      <th>book</th>\n",
       "      <th>news</th>\n",
       "      <th>paper</th>\n",
       "      <th>review</th>\n",
       "    </tr>\n",
       "  </thead>\n",
       "  <tbody>\n",
       "    <tr>\n",
       "      <th>0</th>\n",
       "      <td>1</td>\n",
       "      <td>0</td>\n",
       "      <td>0</td>\n",
       "      <td>0</td>\n",
       "      <td>0</td>\n",
       "    </tr>\n",
       "    <tr>\n",
       "      <th>1</th>\n",
       "      <td>1</td>\n",
       "      <td>0</td>\n",
       "      <td>0</td>\n",
       "      <td>0</td>\n",
       "      <td>0</td>\n",
       "    </tr>\n",
       "    <tr>\n",
       "      <th>2</th>\n",
       "      <td>1</td>\n",
       "      <td>0</td>\n",
       "      <td>0</td>\n",
       "      <td>0</td>\n",
       "      <td>0</td>\n",
       "    </tr>\n",
       "    <tr>\n",
       "      <th>3</th>\n",
       "      <td>1</td>\n",
       "      <td>0</td>\n",
       "      <td>0</td>\n",
       "      <td>0</td>\n",
       "      <td>0</td>\n",
       "    </tr>\n",
       "    <tr>\n",
       "      <th>4</th>\n",
       "      <td>1</td>\n",
       "      <td>0</td>\n",
       "      <td>0</td>\n",
       "      <td>0</td>\n",
       "      <td>0</td>\n",
       "    </tr>\n",
       "  </tbody>\n",
       "</table>\n",
       "</div>"
      ],
      "text/plain": [
       "   blog  book  news  paper  review\n",
       "0     1     0     0      0       0\n",
       "1     1     0     0      0       0\n",
       "2     1     0     0      0       0\n",
       "3     1     0     0      0       0\n",
       "4     1     0     0      0       0"
      ]
     },
     "execution_count": 16,
     "metadata": {},
     "output_type": "execute_result"
    }
   ],
   "source": [
    "pd.get_dummies(data[\"class\"]).head(5)"
   ]
  },
  {
   "cell_type": "code",
   "execution_count": 4,
   "metadata": {},
   "outputs": [
    {
     "data": {
      "text/html": [
       "<div>\n",
       "<style scoped>\n",
       "    .dataframe tbody tr th:only-of-type {\n",
       "        vertical-align: middle;\n",
       "    }\n",
       "\n",
       "    .dataframe tbody tr th {\n",
       "        vertical-align: top;\n",
       "    }\n",
       "\n",
       "    .dataframe thead th {\n",
       "        text-align: right;\n",
       "    }\n",
       "</style>\n",
       "<table border=\"1\" class=\"dataframe\">\n",
       "  <thead>\n",
       "    <tr style=\"text-align: right;\">\n",
       "      <th></th>\n",
       "      <th>text</th>\n",
       "      <th>class</th>\n",
       "    </tr>\n",
       "  </thead>\n",
       "  <tbody>\n",
       "    <tr>\n",
       "      <th>594</th>\n",
       "      <td>Photo by Mikael Seegen on Unsplash\\n\\nEach cig...</td>\n",
       "      <td>blog</td>\n",
       "    </tr>\n",
       "    <tr>\n",
       "      <th>44674</th>\n",
       "      <td>i used it for about month and then the sensor ...</td>\n",
       "      <td>review</td>\n",
       "    </tr>\n",
       "    <tr>\n",
       "      <th>1010</th>\n",
       "      <td>A stinky game in the Bronx, an interesting one...</td>\n",
       "      <td>blog</td>\n",
       "    </tr>\n",
       "    <tr>\n",
       "      <th>3649</th>\n",
       "      <td>Bridging the gap between fundamental research ...</td>\n",
       "      <td>blog</td>\n",
       "    </tr>\n",
       "    <tr>\n",
       "      <th>16853</th>\n",
       "      <td>Attn: Business Owners.\\n\\n\\n\\nThe ongoing coro...</td>\n",
       "      <td>blog</td>\n",
       "    </tr>\n",
       "  </tbody>\n",
       "</table>\n",
       "</div>"
      ],
      "text/plain": [
       "                                                    text   class\n",
       "594    Photo by Mikael Seegen on Unsplash\\n\\nEach cig...    blog\n",
       "44674  i used it for about month and then the sensor ...  review\n",
       "1010   A stinky game in the Bronx, an interesting one...    blog\n",
       "3649   Bridging the gap between fundamental research ...    blog\n",
       "16853  Attn: Business Owners.\\n\\n\\n\\nThe ongoing coro...    blog"
      ]
     },
     "execution_count": 4,
     "metadata": {},
     "output_type": "execute_result"
    }
   ],
   "source": [
    "data.sample(5)"
   ]
  },
  {
   "cell_type": "code",
   "execution_count": 6,
   "metadata": {},
   "outputs": [],
   "source": [
    "X = data[\"text\"]\n",
    "y = pd.get_dummies(data[\"class\"])\n",
    "\n",
    "X_train, X_test, y_train, y_test = train_test_split(X, y, test_size=0.2, random_state=999)"
   ]
  },
  {
   "cell_type": "code",
   "execution_count": 7,
   "metadata": {},
   "outputs": [],
   "source": [
    "max_tokens = 10000\n",
    "sequence_len = 256\n",
    "\n",
    "vectorization_layer = TextVectorization(max_tokens=max_tokens, output_sequence_length=sequence_len)\n",
    "vectorization_layer.adapt(X_train)"
   ]
  },
  {
   "cell_type": "code",
   "execution_count": 8,
   "metadata": {},
   "outputs": [
    {
     "name": "stdout",
     "output_type": "stream",
     "text": [
      "Model: \"sequential\"\n",
      "_________________________________________________________________\n",
      " Layer (type)                Output Shape              Param #   \n",
      "=================================================================\n",
      " text_vectorization (TextVec  (None, 256)              0         \n",
      " torization)                                                     \n",
      "                                                                 \n",
      " embedding (Embedding)       (None, 256, 256)          2560000   \n",
      "                                                                 \n",
      " bidirectional (Bidirectiona  (None, 256, 1024)        3149824   \n",
      " l)                                                              \n",
      "                                                                 \n",
      " dropout (Dropout)           (None, 256, 1024)         0         \n",
      "                                                                 \n",
      " bidirectional_1 (Bidirectio  (None, 256, 512)         2623488   \n",
      " nal)                                                            \n",
      "                                                                 \n",
      " lstm_2 (LSTM)               (None, 64)                147712    \n",
      "                                                                 \n",
      " dense (Dense)               (None, 5)                 325       \n",
      "                                                                 \n",
      "=================================================================\n",
      "Total params: 8,481,349\n",
      "Trainable params: 8,481,349\n",
      "Non-trainable params: 0\n",
      "_________________________________________________________________\n"
     ]
    }
   ],
   "source": [
    "model = Sequential([\n",
    "    Input(dtype=tf.string, shape=1),\n",
    "    vectorization_layer,\n",
    "    Embedding(input_dim=vectorization_layer.vocabulary_size(), output_dim=256, mask_zero=True),\n",
    "    Bidirectional(LSTM(512, return_sequences=True)),\n",
    "    Dropout(0.03),\n",
    "    Bidirectional(LSTM(256, return_sequences=True)),\n",
    "    LSTM(64),\n",
    "    Dense(5, activation=\"sigmoid\"),\n",
    "])\n",
    "\n",
    "model.summary()"
   ]
  },
  {
   "cell_type": "code",
   "execution_count": 9,
   "metadata": {},
   "outputs": [],
   "source": [
    "model.compile(optimizer=\"adam\", loss=BinaryCrossentropy(), metrics=[\"accuracy\"])"
   ]
  },
  {
   "cell_type": "code",
   "execution_count": 10,
   "metadata": {},
   "outputs": [
    {
     "name": "stdout",
     "output_type": "stream",
     "text": [
      "Epoch 1/10\n",
      "1247/1247 [==============================] - 983s 772ms/step - loss: 0.1408 - accuracy: 0.8737 - val_loss: 0.0949 - val_accuracy: 0.9328\n",
      "Epoch 2/10\n",
      "1247/1247 [==============================] - 932s 748ms/step - loss: 0.0651 - accuracy: 0.9521 - val_loss: 0.0488 - val_accuracy: 0.9601\n",
      "Epoch 3/10\n",
      "1247/1247 [==============================] - 969s 778ms/step - loss: 0.0341 - accuracy: 0.9748 - val_loss: 0.0348 - val_accuracy: 0.9754\n",
      "Epoch 4/10\n",
      "1247/1247 [==============================] - 952s 764ms/step - loss: 0.0220 - accuracy: 0.9841 - val_loss: 0.0848 - val_accuracy: 0.9395\n",
      "Epoch 5/10\n",
      "1247/1247 [==============================] - 942s 756ms/step - loss: 0.0169 - accuracy: 0.9874 - val_loss: 0.0277 - val_accuracy: 0.9800\n",
      "Epoch 6/10\n",
      "1247/1247 [==============================] - 940s 754ms/step - loss: 0.0190 - accuracy: 0.9863 - val_loss: 0.0280 - val_accuracy: 0.9794\n",
      "Epoch 7/10\n",
      "1247/1247 [==============================] - 935s 751ms/step - loss: 0.0101 - accuracy: 0.9923 - val_loss: 0.0336 - val_accuracy: 0.9773\n",
      "Epoch 8/10\n",
      "1247/1247 [==============================] - 911s 731ms/step - loss: 0.0092 - accuracy: 0.9935 - val_loss: 0.0303 - val_accuracy: 0.9817\n",
      "Epoch 9/10\n",
      "1247/1247 [==============================] - 851s 683ms/step - loss: 0.0050 - accuracy: 0.9969 - val_loss: 0.0486 - val_accuracy: 0.9734\n",
      "Epoch 10/10\n",
      "1247/1247 [==============================] - 885s 710ms/step - loss: 0.0050 - accuracy: 0.9964 - val_loss: 0.0318 - val_accuracy: 0.9834\n"
     ]
    }
   ],
   "source": [
    "history = model.fit(X_train, y_train, epochs=4, validation_split=0.15)"
   ]
  },
  {
   "cell_type": "code",
   "execution_count": 25,
   "metadata": {},
   "outputs": [
    {
     "data": {
      "image/png": "[encoded data removed]",
      "text/plain": [
       "<Figure size 1152x360 with 2 Axes>"
      ]
     },
     "metadata": {
      "needs_background": "light"
     },
     "output_type": "display_data"
    }
   ],
   "source": [
    "fig = plt.figure(figsize=(16, 5))\n",
    "\n",
    "ax = fig.add_subplot(1, 2, 1)\n",
    "plt.plot(history.history[\"loss\"], color=\"lightblue\")\n",
    "plt.plot(history.history[\"val_loss\"], color=\"blue\")\n",
    "plt.title(\"Model loss while training\")\n",
    "plt.ylabel(\"loss\")\n",
    "plt.xlabel(\"epoch\")\n",
    "plt.legend([\"train\", \"val\"])\n",
    "\n",
    "fig.add_subplot(1, 2, 2)\n",
    "plt.plot(history.history[\"accuracy\"], color=\"lightblue\")\n",
    "plt.plot(history.history[\"val_accuracy\"], color=\"blue\")\n",
    "plt.title(\"Model accuracy while training\")\n",
    "plt.ylabel(\"accuracy\")\n",
    "plt.xlabel(\"epoch\")\n",
    "plt.legend([\"train\", \"val\"])\n",
    "plt.show()"
   ]
  },
  {
   "attachments": {},
   "cell_type": "markdown",
   "metadata": {},
   "source": [
    "Trainingsdauer: 155 Minuten, 4GB VRAM, 10 Epochen"
   ]
  },
  {
   "cell_type": "code",
   "execution_count": 12,
   "metadata": {},
   "outputs": [
    {
     "name": "stderr",
     "output_type": "stream",
     "text": [
      "WARNING:absl:Found untraced functions such as lstm_cell_6_layer_call_fn, lstm_cell_6_layer_call_and_return_conditional_losses, lstm_cell_1_layer_call_fn, lstm_cell_1_layer_call_and_return_conditional_losses, lstm_cell_2_layer_call_fn while saving (showing 5 of 10). These functions will not be directly callable after loading.\n"
     ]
    },
    {
     "name": "stdout",
     "output_type": "stream",
     "text": [
      "INFO:tensorflow:Assets written to: models/rnn_1.0\\assets\n"
     ]
    },
    {
     "name": "stderr",
     "output_type": "stream",
     "text": [
      "INFO:tensorflow:Assets written to: models/rnn_1.0\\assets\n"
     ]
    }
   ],
   "source": [
    "model.save(\"models/classification_rnn_1.0\")"
   ]
  },
  {
   "cell_type": "code",
   "execution_count": 13,
   "metadata": {},
   "outputs": [
    {
     "name": "stdout",
     "output_type": "stream",
     "text": [
      "test loss, test accuracy: [0.02697935700416565, 0.983552098274231]\n"
     ]
    }
   ],
   "source": [
    "accuracy = model.evaluate(X_test, y_test, verbose=0)\n",
    "print(\"test loss, test accuracy:\", accuracy)"
   ]
  },
  {
   "cell_type": "code",
   "execution_count": 16,
   "metadata": {},
   "outputs": [
    {
     "name": "stdout",
     "output_type": "stream",
     "text": [
      "367/367 [==============================] - 39s 105ms/step\n"
     ]
    }
   ],
   "source": [
    "y_pred = model.predict(X_test)\n",
    "y_pred_int = np.round(y_pred)\n",
    "\n",
    "confusion = confusion_matrix(labels=y_test.to_numpy().argmax(axis=1), predictions=y_pred_int.argmax(axis=1))"
   ]
  },
  {
   "cell_type": "code",
   "execution_count": 17,
   "metadata": {},
   "outputs": [
    {
     "data": {
      "image/png": "[encoded data removed]",
      "text/plain": [
       "<Figure size 864x360 with 2 Axes>"
      ]
     },
     "metadata": {
      "needs_background": "light"
     },
     "output_type": "display_data"
    }
   ],
   "source": [
    "plt.figure(figsize=(12,5))\n",
    "sns.heatmap(confusion, annot=True, fmt=\"d\", cmap=plt.cm.Blues)\n",
    "\n",
    "plt.xlabel(\"Vorhergesagte Klasse\")\n",
    "plt.ylabel(\"Annotierte Klasse\")\n",
    "plt.show()"
   ]
  },
  {
   "cell_type": "code",
   "execution_count": 31,
   "metadata": {},
   "outputs": [
    {
     "name": "stdout",
     "output_type": "stream",
     "text": [
      "Test Recall: 0.9830407363217999\n",
      "Test Precision: 0.9823067056225686\n",
      "Test F1-Score: 0.9824831049682028\n"
     ]
    }
   ],
   "source": [
    "y_test_max = y_test.to_numpy().argmax(axis=1)\n",
    "y_pred_max = y_pred_int.argmax(axis=1)\n",
    "\n",
    "print(\"Test Recall:\", recall_score(y_test_max, y_pred_max, average=\"weighted\"))\n",
    "print(\"Test Precision:\", precision_score(y_test_max, y_pred_max, average=\"weighted\"))\n",
    "print(\"Test F1-Score:\", f1_score(y_test_max, y_pred_max, average=\"weighted\"))"
   ]
  },
  {
   "attachments": {},
   "cell_type": "markdown",
   "metadata": {},
   "source": [
    "| Dummy Variable | Klasse |\n",
    "|---|---|\n",
    "| 0 | Blog |\n",
    "| 1 | Buch |\n",
    "| 2 | News |\n",
    "| 3 | Paper |\n",
    "| 4 | Review |"
   ]
  },
  {
   "cell_type": "code",
   "execution_count": 47,
   "metadata": {},
   "outputs": [
    {
     "name": "stdout",
     "output_type": "stream",
     "text": [
      "1/1 [==============================] - 0s 82ms/step\n",
      "[[2.1599231e-05 6.4005467e-06 4.4313896e-05 2.9180035e-06 9.9995148e-01]]\n",
      "[4]\n"
     ]
    }
   ],
   "source": [
    "example_input = \"\"\"\n",
    "the book was in perfect condition and i enjoyed it a lot!\n",
    "\"\"\"\n",
    "\n",
    "pred = model.predict(pd.DataFrame([example_input]))\n",
    "\n",
    "print(pred)\n",
    "print(pred.argmax(axis=1))"
   ]
  },
  {
   "cell_type": "code",
   "execution_count": 50,
   "metadata": {},
   "outputs": [
    {
     "name": "stdout",
     "output_type": "stream",
     "text": [
      "1/1 [==============================] - 0s 47ms/step\n",
      "[[7.8828093e-03 2.4914127e-04 9.9281293e-01 1.7458398e-05 8.5420434e-05]]\n",
      "[2]\n"
     ]
    }
   ],
   "source": [
    "example_input = \"\"\"\n",
    "Air quality concerns continue as Canadian wildfire smoke covers the Northeast\n",
    "The smoke in major metro areas, including New York, Boston, Philadelphia and Washington, D.C., was expected to cause unhealthy air for all groups.\n",
    "\"\"\"\n",
    "\n",
    "pred = model.predict(pd.DataFrame([example_input]))\n",
    "\n",
    "print(pred)\n",
    "print(pred.argmax(axis=1))"
   ]
  },
  {
   "cell_type": "code",
   "execution_count": 53,
   "metadata": {},
   "outputs": [
    {
     "name": "stdout",
     "output_type": "stream",
     "text": [
      "1/1 [==============================] - 0s 152ms/step\n",
      "[[9.3282437e-01 1.2088064e-03 6.8079419e-02 6.6798616e-06 8.4219326e-05]]\n",
      "[0]\n"
     ]
    }
   ],
   "source": [
    "example_input = \"\"\"\n",
    "One of the most expensive aspects of any cybercriminal operation is the time and effort it takes to constantly create large numbers of new throwaway email accounts. \n",
    "Now a new service offers to help dramatically cut costs associated with large-scale spam and account creation campaigns, by paying people to sell their email account credentials \n",
    "and letting customers temporarily rent access to a vast pool of established accounts at major providers.\n",
    "\"\"\"\n",
    "\n",
    "pred = model.predict(pd.DataFrame([example_input]))\n",
    "\n",
    "print(pred)\n",
    "print(pred.argmax(axis=1))"
   ]
  },
  {
   "cell_type": "code",
   "execution_count": 52,
   "metadata": {},
   "outputs": [
    {
     "name": "stdout",
     "output_type": "stream",
     "text": [
      "1/1 [==============================] - 0s 198ms/step\n",
      "[[9.0191578e-03 7.7632606e-02 9.0522490e-02 3.1605318e-01 2.7173874e-04]]\n",
      "[3]\n"
     ]
    }
   ],
   "source": [
    "example_input = \"\"\"\n",
    "We propose and implement an interpretable machine learning classification model for Explainable AI (XAI) based on expressive Boolean formulas. \n",
    "Potential applications include credit scoring and diagnosis of medical conditions. The Boolean formula defines a rule with tunable complexity (or interpretability), \n",
    "according to which input data are classified. Such a formula can include any operator that can be applied to one or more Boolean variables, thus providing higher expressivity \n",
    "compared to more rigid rule-based and tree-based approaches. The classifier is trained using native local optimization techniques, efficiently searching the space of feasible formulas. \n",
    "Shallow rules can be determined by fast Integer Linear Programming (ILP) or Quadratic Unconstrained Binary Optimization (QUBO) solvers, potentially powered by special purpose hardware or quantum devices.\n",
    "\"\"\"\n",
    "\n",
    "pred = model.predict(pd.DataFrame([example_input]))\n",
    "\n",
    "print(pred)\n",
    "print(pred.argmax(axis=1))"
   ]
  },
  {
   "cell_type": "code",
   "execution_count": null,
   "metadata": {},
   "outputs": [],
   "source": []
  }
 ],
 "metadata": {
  "kernelspec": {
   "display_name": "Python 3",
   "language": "python",
   "name": "python3"
  },
  "language_info": {
   "codemirror_mode": {
    "name": "ipython",
    "version": 3
   },
   "file_extension": ".py",
   "mimetype": "text/x-python",
   "name": "python",
   "nbconvert_exporter": "python",
   "pygments_lexer": "ipython3",
   "version": "3.10.4"
  },
  "orig_nbformat": 4
 },
 "nbformat": 4,
 "nbformat_minor": 2
}
